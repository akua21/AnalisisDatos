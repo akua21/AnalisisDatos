{
 "cells": [
  {
   "cell_type": "markdown",
   "metadata": {},
   "source": [
    "# Práctica 2: Enfermedad Cardiovascular\n",
    "\n",
    "Esta es la segunda práctica de la asignatura de **Análisis de Datos** del grado de *Ingeniería Informática* de la *UC3M* durante el curso 2020/21.\n",
    "\n",
    "\n",
    "Autores:  \n",
    "***Alba Reinders Sánchez***, 100383444, gr.83  \n",
    "***Alejandro Valverde Mahou***, 100383383, gr.83"
   ]
  },
  {
   "cell_type": "markdown",
   "metadata": {},
   "source": [
    "![](./images/img.jpg)"
   ]
  },
  {
   "cell_type": "markdown",
   "metadata": {},
   "source": [
    "El objetivo de esta práctica es predecir si un paciente tiene o no una enfermedad cardiovascular. Se trata de un *problema de clasificación* con salida es binaria. \n",
    "\n",
    "Este sistema se quiere usar como ayuda al diagnóstico médico, por lo que es muy importante que el modelo tenga capacidad explicativa y su interpretación debe poder determinar qué atributos son más relevante para el diagnóstico.\n",
    "\n",
    "El conjunto de datos está compuesto por **70000** ejemplos (pacientes), cada uno con **11** atributos. Más la clase a predecir."
   ]
  },
  {
   "cell_type": "markdown",
   "metadata": {},
   "source": [
    "## Tarea 1: Entrenamiento y evaluación de un árbol de decisión\n",
    "\n",
    "Dado que se requiere de una capacidad explicatica, se plantea usar un **árbol de decisión**, usando, en este primer acercamiento, todas las variables disponibles."
   ]
  },
  {
   "cell_type": "markdown",
   "metadata": {},
   "source": [
    "### Carga de los datos\n",
    "\n",
    "Antes de poder entrenar el modelo, es necesario cargar los datos del fichero."
   ]
  },
  {
   "cell_type": "code",
   "execution_count": 1,
   "metadata": {},
   "outputs": [],
   "source": [
    "import pandas as pd"
   ]
  },
  {
   "cell_type": "code",
   "execution_count": 2,
   "metadata": {
    "scrolled": false
   },
   "outputs": [
    {
     "data": {
      "text/html": [
       "<div>\n",
       "<style scoped>\n",
       "    .dataframe tbody tr th:only-of-type {\n",
       "        vertical-align: middle;\n",
       "    }\n",
       "\n",
       "    .dataframe tbody tr th {\n",
       "        vertical-align: top;\n",
       "    }\n",
       "\n",
       "    .dataframe thead th {\n",
       "        text-align: right;\n",
       "    }\n",
       "</style>\n",
       "<table border=\"1\" class=\"dataframe\">\n",
       "  <thead>\n",
       "    <tr style=\"text-align: right;\">\n",
       "      <th></th>\n",
       "      <th>id</th>\n",
       "      <th>age</th>\n",
       "      <th>gender</th>\n",
       "      <th>height</th>\n",
       "      <th>weight</th>\n",
       "      <th>ap_hi</th>\n",
       "      <th>ap_lo</th>\n",
       "      <th>cholesterol</th>\n",
       "      <th>gluc</th>\n",
       "      <th>smoke</th>\n",
       "      <th>alco</th>\n",
       "      <th>active</th>\n",
       "      <th>cardio</th>\n",
       "    </tr>\n",
       "  </thead>\n",
       "  <tbody>\n",
       "    <tr>\n",
       "      <th>0</th>\n",
       "      <td>0</td>\n",
       "      <td>18393</td>\n",
       "      <td>2</td>\n",
       "      <td>168</td>\n",
       "      <td>62.0</td>\n",
       "      <td>110</td>\n",
       "      <td>80</td>\n",
       "      <td>1</td>\n",
       "      <td>1</td>\n",
       "      <td>0</td>\n",
       "      <td>0</td>\n",
       "      <td>1</td>\n",
       "      <td>0</td>\n",
       "    </tr>\n",
       "    <tr>\n",
       "      <th>1</th>\n",
       "      <td>1</td>\n",
       "      <td>20228</td>\n",
       "      <td>1</td>\n",
       "      <td>156</td>\n",
       "      <td>85.0</td>\n",
       "      <td>140</td>\n",
       "      <td>90</td>\n",
       "      <td>3</td>\n",
       "      <td>1</td>\n",
       "      <td>0</td>\n",
       "      <td>0</td>\n",
       "      <td>1</td>\n",
       "      <td>1</td>\n",
       "    </tr>\n",
       "    <tr>\n",
       "      <th>2</th>\n",
       "      <td>2</td>\n",
       "      <td>18857</td>\n",
       "      <td>1</td>\n",
       "      <td>165</td>\n",
       "      <td>64.0</td>\n",
       "      <td>130</td>\n",
       "      <td>70</td>\n",
       "      <td>3</td>\n",
       "      <td>1</td>\n",
       "      <td>0</td>\n",
       "      <td>0</td>\n",
       "      <td>0</td>\n",
       "      <td>1</td>\n",
       "    </tr>\n",
       "    <tr>\n",
       "      <th>3</th>\n",
       "      <td>3</td>\n",
       "      <td>17623</td>\n",
       "      <td>2</td>\n",
       "      <td>169</td>\n",
       "      <td>82.0</td>\n",
       "      <td>150</td>\n",
       "      <td>100</td>\n",
       "      <td>1</td>\n",
       "      <td>1</td>\n",
       "      <td>0</td>\n",
       "      <td>0</td>\n",
       "      <td>1</td>\n",
       "      <td>1</td>\n",
       "    </tr>\n",
       "    <tr>\n",
       "      <th>4</th>\n",
       "      <td>4</td>\n",
       "      <td>17474</td>\n",
       "      <td>1</td>\n",
       "      <td>156</td>\n",
       "      <td>56.0</td>\n",
       "      <td>100</td>\n",
       "      <td>60</td>\n",
       "      <td>1</td>\n",
       "      <td>1</td>\n",
       "      <td>0</td>\n",
       "      <td>0</td>\n",
       "      <td>0</td>\n",
       "      <td>0</td>\n",
       "    </tr>\n",
       "    <tr>\n",
       "      <th>...</th>\n",
       "      <td>...</td>\n",
       "      <td>...</td>\n",
       "      <td>...</td>\n",
       "      <td>...</td>\n",
       "      <td>...</td>\n",
       "      <td>...</td>\n",
       "      <td>...</td>\n",
       "      <td>...</td>\n",
       "      <td>...</td>\n",
       "      <td>...</td>\n",
       "      <td>...</td>\n",
       "      <td>...</td>\n",
       "      <td>...</td>\n",
       "    </tr>\n",
       "    <tr>\n",
       "      <th>69995</th>\n",
       "      <td>99993</td>\n",
       "      <td>19240</td>\n",
       "      <td>2</td>\n",
       "      <td>168</td>\n",
       "      <td>76.0</td>\n",
       "      <td>120</td>\n",
       "      <td>80</td>\n",
       "      <td>1</td>\n",
       "      <td>1</td>\n",
       "      <td>1</td>\n",
       "      <td>0</td>\n",
       "      <td>1</td>\n",
       "      <td>0</td>\n",
       "    </tr>\n",
       "    <tr>\n",
       "      <th>69996</th>\n",
       "      <td>99995</td>\n",
       "      <td>22601</td>\n",
       "      <td>1</td>\n",
       "      <td>158</td>\n",
       "      <td>126.0</td>\n",
       "      <td>140</td>\n",
       "      <td>90</td>\n",
       "      <td>2</td>\n",
       "      <td>2</td>\n",
       "      <td>0</td>\n",
       "      <td>0</td>\n",
       "      <td>1</td>\n",
       "      <td>1</td>\n",
       "    </tr>\n",
       "    <tr>\n",
       "      <th>69997</th>\n",
       "      <td>99996</td>\n",
       "      <td>19066</td>\n",
       "      <td>2</td>\n",
       "      <td>183</td>\n",
       "      <td>105.0</td>\n",
       "      <td>180</td>\n",
       "      <td>90</td>\n",
       "      <td>3</td>\n",
       "      <td>1</td>\n",
       "      <td>0</td>\n",
       "      <td>1</td>\n",
       "      <td>0</td>\n",
       "      <td>1</td>\n",
       "    </tr>\n",
       "    <tr>\n",
       "      <th>69998</th>\n",
       "      <td>99998</td>\n",
       "      <td>22431</td>\n",
       "      <td>1</td>\n",
       "      <td>163</td>\n",
       "      <td>72.0</td>\n",
       "      <td>135</td>\n",
       "      <td>80</td>\n",
       "      <td>1</td>\n",
       "      <td>2</td>\n",
       "      <td>0</td>\n",
       "      <td>0</td>\n",
       "      <td>0</td>\n",
       "      <td>1</td>\n",
       "    </tr>\n",
       "    <tr>\n",
       "      <th>69999</th>\n",
       "      <td>99999</td>\n",
       "      <td>20540</td>\n",
       "      <td>1</td>\n",
       "      <td>170</td>\n",
       "      <td>72.0</td>\n",
       "      <td>120</td>\n",
       "      <td>80</td>\n",
       "      <td>2</td>\n",
       "      <td>1</td>\n",
       "      <td>0</td>\n",
       "      <td>0</td>\n",
       "      <td>1</td>\n",
       "      <td>0</td>\n",
       "    </tr>\n",
       "  </tbody>\n",
       "</table>\n",
       "<p>70000 rows × 13 columns</p>\n",
       "</div>"
      ],
      "text/plain": [
       "          id    age  gender  height  weight  ap_hi  ap_lo  cholesterol  gluc  \\\n",
       "0          0  18393       2     168    62.0    110     80            1     1   \n",
       "1          1  20228       1     156    85.0    140     90            3     1   \n",
       "2          2  18857       1     165    64.0    130     70            3     1   \n",
       "3          3  17623       2     169    82.0    150    100            1     1   \n",
       "4          4  17474       1     156    56.0    100     60            1     1   \n",
       "...      ...    ...     ...     ...     ...    ...    ...          ...   ...   \n",
       "69995  99993  19240       2     168    76.0    120     80            1     1   \n",
       "69996  99995  22601       1     158   126.0    140     90            2     2   \n",
       "69997  99996  19066       2     183   105.0    180     90            3     1   \n",
       "69998  99998  22431       1     163    72.0    135     80            1     2   \n",
       "69999  99999  20540       1     170    72.0    120     80            2     1   \n",
       "\n",
       "       smoke  alco  active  cardio  \n",
       "0          0     0       1       0  \n",
       "1          0     0       1       1  \n",
       "2          0     0       0       1  \n",
       "3          0     0       1       1  \n",
       "4          0     0       0       0  \n",
       "...      ...   ...     ...     ...  \n",
       "69995      1     0       1       0  \n",
       "69996      0     0       1       1  \n",
       "69997      0     1       0       1  \n",
       "69998      0     0       0       1  \n",
       "69999      0     0       1       0  \n",
       "\n",
       "[70000 rows x 13 columns]"
      ]
     },
     "metadata": {},
     "output_type": "display_data"
    }
   ],
   "source": [
    "data = pd.read_csv(\"cardio_train.csv\", sep=';')\n",
    "header = data.columns\n",
    "display(data)"
   ]
  },
  {
   "cell_type": "markdown",
   "metadata": {},
   "source": [
    "### Crear el modelo\n",
    "\n",
    "Una vez se tienen los datos, ya se puede crear el modelo."
   ]
  },
  {
   "cell_type": "code",
   "execution_count": 3,
   "metadata": {},
   "outputs": [],
   "source": [
    "from sklearn.tree import DecisionTreeClassifier"
   ]
  },
  {
   "cell_type": "code",
   "execution_count": 4,
   "metadata": {},
   "outputs": [],
   "source": [
    "dtc = DecisionTreeClassifier()"
   ]
  },
  {
   "cell_type": "markdown",
   "metadata": {},
   "source": [
    "### Entrenar el modelo"
   ]
  },
  {
   "cell_type": "code",
   "execution_count": 5,
   "metadata": {},
   "outputs": [
    {
     "data": {
      "text/plain": [
       "DecisionTreeClassifier()"
      ]
     },
     "execution_count": 5,
     "metadata": {},
     "output_type": "execute_result"
    }
   ],
   "source": [
    "X = data[header[1:-1]] #Se quita, ademas de la clase, el id\n",
    "y = data[header[-1]]\n",
    "dtc.fit(X, y)"
   ]
  },
  {
   "cell_type": "markdown",
   "metadata": {},
   "source": [
    "### Evaluar el modelo\n",
    "\n",
    "Para evaluar el modelo se va a usar la **matriz de confusión** y, usando los valores que proporcione, se van a calcular:\n",
    "\n",
    " * **Tasa de aciertos**\n",
    " * **Precisión**\n",
    " * **Sensibilidad**\n",
    " * **Tasa de falsos positivos**\n",
    " * **Especificidad**\n",
    " * **Puntuación F1**\n",
    " * **Área bajo de la curva ROC**"
   ]
  },
  {
   "cell_type": "code",
   "execution_count": 6,
   "metadata": {},
   "outputs": [],
   "source": [
    "from sklearn.metrics import confusion_matrix"
   ]
  },
  {
   "cell_type": "code",
   "execution_count": 7,
   "metadata": {},
   "outputs": [],
   "source": [
    "y_pred = dtc.predict(X)"
   ]
  },
  {
   "cell_type": "code",
   "execution_count": 8,
   "metadata": {},
   "outputs": [],
   "source": [
    "def confusionMatrix(y, y_pred):\n",
    "    true_matrix = ['Real Enfermedad', 'Real No Enfermedad']\n",
    "    pred_matrix = ['Predicho Enfermedad', 'Predicho No Enfermedad']\n",
    "\n",
    "    tn, fp, fn, tp = confusion_matrix(y, y_pred).ravel()\n",
    "\n",
    "    return pd.DataFrame([[tp, fp], [fn, tn]], columns=true_matrix, index=pred_matrix)"
   ]
  },
  {
   "cell_type": "code",
   "execution_count": 9,
   "metadata": {},
   "outputs": [
    {
     "data": {
      "text/html": [
       "<div>\n",
       "<style scoped>\n",
       "    .dataframe tbody tr th:only-of-type {\n",
       "        vertical-align: middle;\n",
       "    }\n",
       "\n",
       "    .dataframe tbody tr th {\n",
       "        vertical-align: top;\n",
       "    }\n",
       "\n",
       "    .dataframe thead th {\n",
       "        text-align: right;\n",
       "    }\n",
       "</style>\n",
       "<table border=\"1\" class=\"dataframe\">\n",
       "  <thead>\n",
       "    <tr style=\"text-align: right;\">\n",
       "      <th></th>\n",
       "      <th>Real Enfermedad</th>\n",
       "      <th>Real No Enfermedad</th>\n",
       "    </tr>\n",
       "  </thead>\n",
       "  <tbody>\n",
       "    <tr>\n",
       "      <th>Predicho Enfermedad</th>\n",
       "      <td>34962</td>\n",
       "      <td>0</td>\n",
       "    </tr>\n",
       "    <tr>\n",
       "      <th>Predicho No Enfermedad</th>\n",
       "      <td>17</td>\n",
       "      <td>35021</td>\n",
       "    </tr>\n",
       "  </tbody>\n",
       "</table>\n",
       "</div>"
      ],
      "text/plain": [
       "                        Real Enfermedad  Real No Enfermedad\n",
       "Predicho Enfermedad               34962                   0\n",
       "Predicho No Enfermedad               17               35021"
      ]
     },
     "metadata": {},
     "output_type": "display_data"
    }
   ],
   "source": [
    "matrix = confusionMatrix(y, y_pred)\n",
    "display(matrix)"
   ]
  },
  {
   "cell_type": "markdown",
   "metadata": {},
   "source": [
    "El árbol de decisión, dado que está evaluando sobre el conjunto de entrenamiento, no hay incoherencias en los datos (dos ejemplos idénticos con clases diferentes), y no se ha especificado una profundidad del árbol máxima, siempre va a ser capaz de realizar una predicción perfecta.\n",
    "\n",
    "Esto no indica que este árbol haya generado un buen clasificador, porque no se ha evaluado con ejemplos desconocidos para el modelo.\n",
    "\n",
    "Aún así, se va a proceder a evaluar este modelo con las métricas mencionadas anteriormente, para poder realizar una explicación en mayor profundidad de las mismas, aunque sus valores no aporten demasiada información."
   ]
  },
  {
   "cell_type": "markdown",
   "metadata": {},
   "source": [
    "#### Tasa de aciertos\n",
    "\n",
    "También llamada *accuracy*, y mide el porcentaje de instancias **correctamente clasificadas**. Aporta una visión general de como de bueno es el modelo desde una perspectiva general.\n",
    "\n",
    "$\\displaystyle accuracy = \\frac{TP + TN}{TP + TN + FP + FN}$"
   ]
  },
  {
   "cell_type": "code",
   "execution_count": 10,
   "metadata": {},
   "outputs": [],
   "source": [
    "from sklearn.metrics import accuracy_score"
   ]
  },
  {
   "cell_type": "code",
   "execution_count": 11,
   "metadata": {},
   "outputs": [],
   "source": [
    "def accuracy(y, y_pred):\n",
    "    return accuracy_score(y, y_pred) * 100"
   ]
  },
  {
   "cell_type": "code",
   "execution_count": 12,
   "metadata": {},
   "outputs": [
    {
     "name": "stdout",
     "output_type": "stream",
     "text": [
      "Se clasifican correctamente un 99.97571428571429% de las instancias\n"
     ]
    }
   ],
   "source": [
    "acc = accuracy(y, y_pred)\n",
    "print(\"Se clasifican correctamente un \" + str(acc) + \"% de las instancias\")"
   ]
  },
  {
   "cell_type": "markdown",
   "metadata": {},
   "source": [
    "Como se ha mencionado anteriormente, estas métricas van a sacar valores perfectos."
   ]
  },
  {
   "cell_type": "markdown",
   "metadata": {},
   "source": [
    "#### Precisión\n",
    "\n",
    "Identifica que porcentaje de instancias clasificadas como positivas, lo **son realmente**. Es útil para conocer la precisión del modelo cuando asegura que una instancia es positiva.\n",
    "\n",
    "$\\displaystyle precision = \\frac{TP}{TP + FP}$"
   ]
  },
  {
   "cell_type": "code",
   "execution_count": 13,
   "metadata": {},
   "outputs": [],
   "source": [
    "from sklearn.metrics import precision_score"
   ]
  },
  {
   "cell_type": "code",
   "execution_count": 14,
   "metadata": {},
   "outputs": [],
   "source": [
    "def precision(y, y_pred):\n",
    "    return precision_score(y, y_pred) * 100"
   ]
  },
  {
   "cell_type": "code",
   "execution_count": 15,
   "metadata": {},
   "outputs": [
    {
     "name": "stdout",
     "output_type": "stream",
     "text": [
      "Se clasifican correctamente un 100.0% de las instancias positivas\n"
     ]
    }
   ],
   "source": [
    "prec = precision(y, y_pred)\n",
    "print(\"Se clasifican correctamente un \" + str(prec) + \"% de las instancias positivas\")"
   ]
  },
  {
   "cell_type": "markdown",
   "metadata": {},
   "source": [
    "#### Sensibilidad\n",
    "\n",
    "También denominado *recall* o *sensitivity*. Indica qué porcentaje de las instancias positivas son clasificadas **correctamente**. Es útil para conocer la precisión del modelo para determinar que una instancia positiva lo es, o se equivoca.\n",
    "\n",
    "$\\displaystyle recall = \\frac{TP}{TP + FN}$"
   ]
  },
  {
   "cell_type": "code",
   "execution_count": 16,
   "metadata": {},
   "outputs": [],
   "source": [
    "from sklearn.metrics import recall_score"
   ]
  },
  {
   "cell_type": "code",
   "execution_count": 17,
   "metadata": {},
   "outputs": [],
   "source": [
    "def recall(y, y_pred):\n",
    "    return recall_score(y, y_pred) * 100"
   ]
  },
  {
   "cell_type": "code",
   "execution_count": 18,
   "metadata": {},
   "outputs": [
    {
     "name": "stdout",
     "output_type": "stream",
     "text": [
      "El modelo acierta un 99.95139941107522% de las instancias positivas\n"
     ]
    }
   ],
   "source": [
    "rec = recall(y, y_pred)\n",
    "print(\"El modelo acierta un \" + str(rec) + \"% de las instancias positivas\")"
   ]
  },
  {
   "cell_type": "markdown",
   "metadata": {},
   "source": [
    "#### Tasa de falsos positivos\n",
    "\n",
    "Denominada por sus siglas en inglés *FPR*. Indica qué porcentaje de las instancias negativas son clasificadas **incorrectamente**. Es útil para conocer la precisión del modelo para determinar que una instancia negativa lo es, o se equivoca. \n",
    "\n",
    "$\\displaystyle FPR = \\frac{FP}{FP + TN}$"
   ]
  },
  {
   "cell_type": "code",
   "execution_count": 19,
   "metadata": {},
   "outputs": [],
   "source": [
    "def FPR(y, ypred):\n",
    "    tn, fp, fn, tp = confusion_matrix(y, y_pred).ravel()\n",
    "    return (fp/(fp + tn)) * 100"
   ]
  },
  {
   "cell_type": "code",
   "execution_count": 20,
   "metadata": {},
   "outputs": [
    {
     "name": "stdout",
     "output_type": "stream",
     "text": [
      "El modelo falla un 0.0% de las instancias negativas\n"
     ]
    }
   ],
   "source": [
    "fpr = FPR(y, y_pred)\n",
    "print(\"El modelo falla un \" + str(fpr) + \"% de las instancias negativas\")"
   ]
  },
  {
   "cell_type": "markdown",
   "metadata": {},
   "source": [
    "#### Especificidad\n",
    "\n",
    "Similar al *recall*, pero con el caso de los negativos. Indica qué porcentaje de las instancias negativas son clasificadas **correctamente**. Es útil para conocer la precisión del modelo para determinar que una instancia negativa lo es, o se equivoca.\n",
    "\n",
    "$\\displaystyle specificity = \\frac{TN}{TN + FP}$"
   ]
  },
  {
   "cell_type": "code",
   "execution_count": 21,
   "metadata": {},
   "outputs": [],
   "source": [
    "def specificity(y, y_pred):\n",
    "    tn, fp, fn, tp = confusion_matrix(y, y_pred).ravel()\n",
    "    return (tn/(fp + tn)) * 100"
   ]
  },
  {
   "cell_type": "code",
   "execution_count": 22,
   "metadata": {},
   "outputs": [
    {
     "name": "stdout",
     "output_type": "stream",
     "text": [
      "El modelo acierta un 100.0% de las instancias negativas\n"
     ]
    }
   ],
   "source": [
    "spec = specificity(y, y_pred)\n",
    "print(\"El modelo acierta un \" + str(spec) + \"% de las instancias negativas\")"
   ]
  },
  {
   "cell_type": "markdown",
   "metadata": {},
   "source": [
    "#### Puntuación F1\n",
    "\n",
    "Indica un valor que agrega la precisión y *recall* mediante una media armónica. El mejor valor es 1 y el peor, 0\n",
    "\n",
    "$\\displaystyle F1 = 2 \\frac{precision · recall}{precision + recall}$"
   ]
  },
  {
   "cell_type": "code",
   "execution_count": 23,
   "metadata": {},
   "outputs": [],
   "source": [
    "from sklearn.metrics import f1_score"
   ]
  },
  {
   "cell_type": "code",
   "execution_count": 24,
   "metadata": {},
   "outputs": [],
   "source": [
    "def F1(y, y_pred):\n",
    "    return f1_score(y, y_pred)"
   ]
  },
  {
   "cell_type": "code",
   "execution_count": 25,
   "metadata": {},
   "outputs": [
    {
     "name": "stdout",
     "output_type": "stream",
     "text": [
      "La puntuación F1 del modelo es: 0.999756937990592\n"
     ]
    }
   ],
   "source": [
    "f1 = F1(y, y_pred)\n",
    "print(\"La puntuación F1 del modelo es: \" + str(f1))"
   ]
  },
  {
   "cell_type": "markdown",
   "metadata": {},
   "source": [
    "#### Área bajo la curva ROC\n",
    "\n",
    "Hace referencia a la cantidad de instancias bien clasificadas si se va modificando el umbral de la *curva ROC*."
   ]
  },
  {
   "cell_type": "code",
   "execution_count": 26,
   "metadata": {},
   "outputs": [],
   "source": [
    "import matplotlib.pyplot as plt"
   ]
  },
  {
   "cell_type": "code",
   "execution_count": 27,
   "metadata": {},
   "outputs": [],
   "source": [
    "from sklearn.metrics import roc_auc_score, plot_roc_curve"
   ]
  },
  {
   "cell_type": "markdown",
   "metadata": {},
   "source": [
    "**Curva ROC**"
   ]
  },
  {
   "cell_type": "code",
   "execution_count": 28,
   "metadata": {},
   "outputs": [
    {
     "data": {
      "image/png": "[encoded data removed]",
      "text/plain": [
       "<Figure size 432x288 with 1 Axes>"
      ]
     },
     "metadata": {
      "needs_background": "light"
     },
     "output_type": "display_data"
    }
   ],
   "source": [
    "plot_roc_curve(dtc, X, y)\n",
    "plt.plot([0, 1], [0, 1], 'k--')\n",
    "plt.show()"
   ]
  },
  {
   "cell_type": "code",
   "execution_count": 29,
   "metadata": {},
   "outputs": [],
   "source": [
    "def AUROC(y, y_pred):\n",
    "    return roc_auc_score(y, y_pred) * 100"
   ]
  },
  {
   "cell_type": "code",
   "execution_count": 30,
   "metadata": {},
   "outputs": [
    {
     "name": "stdout",
     "output_type": "stream",
     "text": [
      "El área bajo la curva del modelo es el: 99.97569970553761%\n"
     ]
    }
   ],
   "source": [
    "auroc = AUROC(y, y_pred)\n",
    "print(\"El área bajo la curva del modelo es el: \" + str(auroc) + \"%\")"
   ]
  },
  {
   "cell_type": "markdown",
   "metadata": {},
   "source": [
    "Para resumir, todas las métricas son:"
   ]
  },
  {
   "cell_type": "code",
   "execution_count": 31,
   "metadata": {},
   "outputs": [],
   "source": [
    "def evaluation(y, y_pred):\n",
    "    acc = accuracy(y, y_pred)\n",
    "    prec = precision(y, y_pred)\n",
    "    rec = recall(y, y_pred)\n",
    "    fpr = FPR(y, y_pred)\n",
    "    spec = specificity(y, y_pred)\n",
    "    f1 = F1(y, y_pred)\n",
    "    auroc = AUROC(y, y_pred)\n",
    "\n",
    "    print(\"Se clasifican correctamente un \" + str(acc) + \"% de las instancias\")\n",
    "    print(\"Se clasifican correctamente un \" + str(prec) + \"% de las instancias positivas\")\n",
    "    print(\"El modelo acierta un \" + str(rec) + \"% de las instancias positivas\")\n",
    "    print(\"El modelo falla un \" + str(fpr) + \"% de las instancias negativas\")\n",
    "    print(\"El modelo acierta un \" + str(spec) + \"% de las instancias negativas\")\n",
    "    print(\"La puntuación F1 del modelo es: \" + str(f1))\n",
    "    print(\"El área bajo la curva del modelo es el: \" + str(auroc) + \"%\")\n",
    "    \n",
    "    return acc, prec, rec, fpr, spec, f1, auroc"
   ]
  },
  {
   "cell_type": "code",
   "execution_count": 32,
   "metadata": {},
   "outputs": [
    {
     "name": "stdout",
     "output_type": "stream",
     "text": [
      "Se clasifican correctamente un 99.97571428571429% de las instancias\n",
      "Se clasifican correctamente un 100.0% de las instancias positivas\n",
      "El modelo acierta un 99.95139941107522% de las instancias positivas\n",
      "El modelo falla un 0.0% de las instancias negativas\n",
      "El modelo acierta un 100.0% de las instancias negativas\n",
      "La puntuación F1 del modelo es: 0.999756937990592\n",
      "El área bajo la curva del modelo es el: 99.97569970553761%\n"
     ]
    }
   ],
   "source": [
    "ev = evaluation(y, y_pred)"
   ]
  },
  {
   "cell_type": "markdown",
   "metadata": {},
   "source": [
    "## Tarea 2: Inspección del árbol de decisión\n",
    "\n",
    "Una vez realizado el modelo, hay que entenderlo. Para ello se va a inspeccionar el árbol de clasificación generado, y después se van a responder las siguientes preguntas:\n",
    "\n",
    " 1. **¿Qué relevancia tienen los exámenes clínicos realizados a la hora de determinar la existencia de una enfermedad cardiovascular?**\n",
    " \n",
    " 2. **¿Es relevante la información (subjetiva) proporcionada por los pacientes a la hora de determinar la presencia de una enfermedad cardiovascular?**"
   ]
  },
  {
   "cell_type": "code",
   "execution_count": 33,
   "metadata": {},
   "outputs": [],
   "source": [
    "from sklearn import tree\n",
    "from subprocess import call"
   ]
  },
  {
   "cell_type": "code",
   "execution_count": 34,
   "metadata": {},
   "outputs": [
    {
     "name": "stdout",
     "output_type": "stream",
     "text": [
      "Profundidad del árbol generado: 65\n"
     ]
    }
   ],
   "source": [
    "print(\"Profundidad del árbol generado:\", dtc.get_depth())"
   ]
  },
  {
   "cell_type": "markdown",
   "metadata": {},
   "source": [
    "Dada la gran profundidad del árbol, que hace prácticamente imposible visualizarlo correctamente, se ha decidido analizar visualmente exclusivamente los 3 primeros niveles del árbol."
   ]
  },
  {
   "cell_type": "code",
   "execution_count": 35,
   "metadata": {},
   "outputs": [
    {
     "data": {
      "text/plain": [
       "0"
      ]
     },
     "execution_count": 35,
     "metadata": {},
     "output_type": "execute_result"
    }
   ],
   "source": [
    "tree.export_graphviz(dtc, out_file='tree.dot', feature_names=X.columns, max_depth=3)\n",
    "call(['dot', '-T', 'png', 'tree.dot', '-o', 'images/tree.png'])"
   ]
  },
  {
   "cell_type": "markdown",
   "metadata": {},
   "source": [
    "El árbol toma la siguiente forma:\n",
    "![](images/tree.png)"
   ]
  },
  {
   "cell_type": "code",
   "execution_count": 36,
   "metadata": {
    "scrolled": true
   },
   "outputs": [
    {
     "data": {
      "text/html": [
       "<div>\n",
       "<style scoped>\n",
       "    .dataframe tbody tr th:only-of-type {\n",
       "        vertical-align: middle;\n",
       "    }\n",
       "\n",
       "    .dataframe tbody tr th {\n",
       "        vertical-align: top;\n",
       "    }\n",
       "\n",
       "    .dataframe thead th {\n",
       "        text-align: right;\n",
       "    }\n",
       "</style>\n",
       "<table border=\"1\" class=\"dataframe\">\n",
       "  <thead>\n",
       "    <tr style=\"text-align: right;\">\n",
       "      <th></th>\n",
       "      <th>0</th>\n",
       "      <th>1</th>\n",
       "      <th>2</th>\n",
       "      <th>3</th>\n",
       "      <th>4</th>\n",
       "      <th>5</th>\n",
       "      <th>6</th>\n",
       "      <th>7</th>\n",
       "      <th>8</th>\n",
       "      <th>9</th>\n",
       "      <th>10</th>\n",
       "    </tr>\n",
       "  </thead>\n",
       "  <tbody>\n",
       "    <tr>\n",
       "      <th></th>\n",
       "      <td>age</td>\n",
       "      <td>gender</td>\n",
       "      <td>height</td>\n",
       "      <td>weight</td>\n",
       "      <td>ap_hi</td>\n",
       "      <td>ap_lo</td>\n",
       "      <td>cholesterol</td>\n",
       "      <td>gluc</td>\n",
       "      <td>smoke</td>\n",
       "      <td>alco</td>\n",
       "      <td>active</td>\n",
       "    </tr>\n",
       "    <tr>\n",
       "      <th></th>\n",
       "      <td>0.3253</td>\n",
       "      <td>0.0185543</td>\n",
       "      <td>0.146875</td>\n",
       "      <td>0.15858</td>\n",
       "      <td>0.230837</td>\n",
       "      <td>0.040046</td>\n",
       "      <td>0.0325736</td>\n",
       "      <td>0.018036</td>\n",
       "      <td>0.00875756</td>\n",
       "      <td>0.00766278</td>\n",
       "      <td>0.0127771</td>\n",
       "    </tr>\n",
       "  </tbody>\n",
       "</table>\n",
       "</div>"
      ],
      "text/plain": [
       "       0          1         2        3         4         5            6  \\\n",
       "     age     gender    height   weight     ap_hi     ap_lo  cholesterol   \n",
       "  0.3253  0.0185543  0.146875  0.15858  0.230837  0.040046    0.0325736   \n",
       "\n",
       "         7           8           9         10  \n",
       "      gluc       smoke        alco     active  \n",
       "  0.018036  0.00875756  0.00766278  0.0127771  "
      ]
     },
     "metadata": {},
     "output_type": "display_data"
    }
   ],
   "source": [
    "features_importance = pd.DataFrame([header[1:-1], dtc.feature_importances_], index=[\"\", \"\"])\n",
    "display(features_importance)"
   ]
  },
  {
   "cell_type": "markdown",
   "metadata": {},
   "source": [
    "### ¿Qué relevancia tienen los exámenes clínicos realizados a la hora de determinar la existencia de una enfermedad cardiovascular?\n",
    "\n",
    "Las variables que forman parte de los exámenes clínicos son:\n",
    "\n",
    " * *ap_hi*\n",
    " * *ap_lo*\n",
    " * *cholesterol*\n",
    " * *gluc*\n",
    " \n",
    "Como se puede apreciar en la imagen anterior, el atributo con mayor relevancia es *ap_hi*. Además, todas las variables del examen clínico se encuentran en los 3 primeros niveles, por lo que se podría afirmar que tienen gran importancia a la hora de determinar si el paciente padece o no de una enfermedad cardiovascular. Esto se debe a que son los atributos que son capaces de dividir de mejor forma al conjunto de datos.\n",
    "\n",
    "Asimismo, los valores con más importancia para el árbol son tanto *age* como *ap_hi*, por lo que el valor de examen clínico con más importancia sería este atributo, sin despreciar la utilidad de los demas, que también poseen números altos, y se encuentran en las partes altas del árbol."
   ]
  },
  {
   "cell_type": "code",
   "execution_count": 37,
   "metadata": {
    "scrolled": true
   },
   "outputs": [
    {
     "data": {
      "text/plain": [
       "0"
      ]
     },
     "execution_count": 37,
     "metadata": {},
     "output_type": "execute_result"
    }
   ],
   "source": [
    "tree.export_graphviz(dtc, out_file='tree2.dot', feature_names=X.columns, max_depth=4)\n",
    "call(['dot', '-T', 'png', 'tree2.dot', '-o', 'images/tree2.png'])"
   ]
  },
  {
   "cell_type": "markdown",
   "metadata": {},
   "source": [
    "![](images/tree2.png)"
   ]
  },
  {
   "cell_type": "markdown",
   "metadata": {},
   "source": [
    "### ¿Es relevante la información (subjetiva) proporcionada por los pacientes a la hora de determinar la presencia de una enfermedad cardiovascular?\n",
    "\n",
    "Los valores subjetivos son:\n",
    "\n",
    " * *smoke*\n",
    " * *alco*\n",
    " * *active*\n",
    "\n",
    "Ninguno de los valores subjetivos aparecen en los 3 primeros niveles, pero sí aparecen tanto *active* como *smoke* en el 4º nivel, por lo que se puede afirmar que poseen cierta importancia.\n",
    "\n",
    "Aún así, el modelo les asigna las 3 importancias más bajas. En orden descendente de relevancia, son: *active*, *alco* y *smoke*.\n",
    "\n",
    "Esto indica que, dentro de los atributos del estudio, son los menos determinantes."
   ]
  },
  {
   "cell_type": "markdown",
   "metadata": {},
   "source": [
    "## Tarea 3: Comparativa de modelos\n",
    "\n",
    "Dado que el modelo anterior no es de gran utilidad, entre otras cosas, porque no hay división entre conjunto de entrenamiento y de test, se va a realizar esta división usando la técnica de *validación cruzada*, con **7** cruces, por lo que en cada iteración, el conjunto de test contendrá 10000 pacientes.\n",
    "\n",
    "Además, se va a probar a cambiar los hiperparámetros del árbol, ya que en las tareas anteriores se dejaban con sus valores por defecto, y se van a crear nuevos modelos de clasificación con diferentes algoritmos, con el objetivo de encontrar la configuración del algoritmo que genere una mejor solución del problema.\n",
    "\n",
    "Los algoritmos de clasificación, con sus hiperparámetros, que se van a probar son:\n",
    "\n",
    "   * **Árboles de Clasificación**:\n",
    "    * *criterion*: \"gini\", \"entropy\"\n",
    "    * *splitter*: \"best\", \"random\"\n",
    "    * *max_depth*: None, 5, 10, 20, 50\n",
    "   * **K-Vecinos Cercanos**:\n",
    "    * *n_neighbors*: 2, 5, 10, 50\n",
    "    * *weights*: \"uniform\", \"distance\"\n",
    "   * **Regresión Logística**:\n",
    "    * *penalty*: \"None\", \"l1\", \"l2\"\n",
    "    * *C*: 0.5, 1.0, 2.0\n",
    "   * **Perceptrón Multicapa**:\n",
    "    * *learning_rate*: \"constant\", \"invscaling\", \"adaptive\"\n",
    "    * *hidden_layer_sizes*: (,), (64,), (64, 64), (64, 64, 64)\n",
    "    * *max_iter*: 100, 200, 500\n",
    "\n",
    "Aparte de hacer esta división sobre los datos, se probará a realizar, primero, la evaluación sin ninguna transformación y, después, normalizando los datos, para que los valores de las variables se encuentren todos dentro del mismo rango. Esto puede favorecer a los modelos como el *Perceptrón Multicapa* que usan los pesos de los valores para realziar la clasificación.\n",
    "\n",
    "Esto se hará con el objetivo de estudiar el comportamiento de los modelos sobre los datos con y sin normalización, para encontrar cómo funcionan mejor."
   ]
  },
  {
   "cell_type": "code",
   "execution_count": 46,
   "metadata": {},
   "outputs": [],
   "source": [
    "from sklearn.linear_model import LogisticRegression\n",
    "from sklearn.tree import DecisionTreeClassifier\n",
    "from sklearn.neural_network import MLPClassifier\n",
    "from sklearn.neighbors import KNeighborsClassifier"
   ]
  },
  {
   "cell_type": "code",
   "execution_count": 47,
   "metadata": {},
   "outputs": [],
   "source": [
    "from sklearn.model_selection import KFold"
   ]
  }
 ],
 "metadata": {
  "kernelspec": {
   "display_name": "Python 3",
   "language": "python",
   "name": "python3"
  },
  "language_info": {
   "codemirror_mode": {
    "name": "ipython",
    "version": 3
   },
   "file_extension": ".py",
   "mimetype": "text/x-python",
   "name": "python",
   "nbconvert_exporter": "python",
   "pygments_lexer": "ipython3",
   "version": "3.8.5"
  }
 },
 "nbformat": 4,
 "nbformat_minor": 4
}
