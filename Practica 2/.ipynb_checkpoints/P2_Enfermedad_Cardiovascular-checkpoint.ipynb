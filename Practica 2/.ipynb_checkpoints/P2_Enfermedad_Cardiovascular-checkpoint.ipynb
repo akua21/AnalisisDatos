{
 "cells": [
  {
   "cell_type": "markdown",
   "metadata": {},
   "source": [
    "# Práctica 2: Enfermedad Cardiovascular\n",
    "\n",
    "Esta es la segunda práctica de la asignatura de **Análisis de Datos** del grado de *Ingeniería Informática* de la *UC3M* durante el curso 2020/21.\n",
    "\n",
    "\n",
    "Autores:  \n",
    "***Alba Reinders Sánchez***, 100383444, gr.83  \n",
    "***Alejandro Valverde Mahou***, 100383383, gr.83"
   ]
  },
  {
   "cell_type": "markdown",
   "metadata": {},
   "source": [
    "![](./images/img.jpg)"
   ]
  },
  {
   "cell_type": "markdown",
   "metadata": {},
   "source": [
    "El objetivo de esta práctica es predecir si un paciente tiene o no una enfermedad cardiovascular. Se trata de un *problema de clasificación* con salida es binaria. \n",
    "\n",
    "Este sistema se quiere usar como ayuda al diagnóstico médico, por lo que es muy importante que el modelo tenga capacidad explicativa y su interpretación debe poder determinar qué atributos son más relevante para el diagnóstico.\n",
    "\n",
    "El conjunto de datos está compuesto por **70000** ejemplos (pacientes), cada uno con **11** atributos. Más la clase a predecir."
   ]
  },
  {
   "cell_type": "markdown",
   "metadata": {},
   "source": [
    "## Tarea 1: Entrenamiento y evaluación de un árbol de decisión\n",
    "\n",
    "Dado que se requiere de una capacidad explicatica, se plantea usar un **árbol de decisión**, usando, en este primer acercamiento, todas las variables disponibles."
   ]
  },
  {
   "cell_type": "markdown",
   "metadata": {},
   "source": [
    "### Carga de los datos\n",
    "\n",
    "Antes de poder entrenar el modelo, es necesario cargar los datos del fichero."
   ]
  },
  {
   "cell_type": "code",
   "execution_count": 1,
   "metadata": {},
   "outputs": [],
   "source": [
    "import pandas as pd"
   ]
  },
  {
   "cell_type": "code",
   "execution_count": 2,
   "metadata": {
    "scrolled": false
   },
   "outputs": [
    {
     "data": {
      "text/html": [
       "<div>\n",
       "<style scoped>\n",
       "    .dataframe tbody tr th:only-of-type {\n",
       "        vertical-align: middle;\n",
       "    }\n",
       "\n",
       "    .dataframe tbody tr th {\n",
       "        vertical-align: top;\n",
       "    }\n",
       "\n",
       "    .dataframe thead th {\n",
       "        text-align: right;\n",
       "    }\n",
       "</style>\n",
       "<table border=\"1\" class=\"dataframe\">\n",
       "  <thead>\n",
       "    <tr style=\"text-align: right;\">\n",
       "      <th></th>\n",
       "      <th>id</th>\n",
       "      <th>age</th>\n",
       "      <th>gender</th>\n",
       "      <th>height</th>\n",
       "      <th>weight</th>\n",
       "      <th>ap_hi</th>\n",
       "      <th>ap_lo</th>\n",
       "      <th>cholesterol</th>\n",
       "      <th>gluc</th>\n",
       "      <th>smoke</th>\n",
       "      <th>alco</th>\n",
       "      <th>active</th>\n",
       "      <th>cardio</th>\n",
       "    </tr>\n",
       "  </thead>\n",
       "  <tbody>\n",
       "    <tr>\n",
       "      <th>0</th>\n",
       "      <td>0</td>\n",
       "      <td>18393</td>\n",
       "      <td>2</td>\n",
       "      <td>168</td>\n",
       "      <td>62.0</td>\n",
       "      <td>110</td>\n",
       "      <td>80</td>\n",
       "      <td>1</td>\n",
       "      <td>1</td>\n",
       "      <td>0</td>\n",
       "      <td>0</td>\n",
       "      <td>1</td>\n",
       "      <td>0</td>\n",
       "    </tr>\n",
       "    <tr>\n",
       "      <th>1</th>\n",
       "      <td>1</td>\n",
       "      <td>20228</td>\n",
       "      <td>1</td>\n",
       "      <td>156</td>\n",
       "      <td>85.0</td>\n",
       "      <td>140</td>\n",
       "      <td>90</td>\n",
       "      <td>3</td>\n",
       "      <td>1</td>\n",
       "      <td>0</td>\n",
       "      <td>0</td>\n",
       "      <td>1</td>\n",
       "      <td>1</td>\n",
       "    </tr>\n",
       "    <tr>\n",
       "      <th>2</th>\n",
       "      <td>2</td>\n",
       "      <td>18857</td>\n",
       "      <td>1</td>\n",
       "      <td>165</td>\n",
       "      <td>64.0</td>\n",
       "      <td>130</td>\n",
       "      <td>70</td>\n",
       "      <td>3</td>\n",
       "      <td>1</td>\n",
       "      <td>0</td>\n",
       "      <td>0</td>\n",
       "      <td>0</td>\n",
       "      <td>1</td>\n",
       "    </tr>\n",
       "    <tr>\n",
       "      <th>3</th>\n",
       "      <td>3</td>\n",
       "      <td>17623</td>\n",
       "      <td>2</td>\n",
       "      <td>169</td>\n",
       "      <td>82.0</td>\n",
       "      <td>150</td>\n",
       "      <td>100</td>\n",
       "      <td>1</td>\n",
       "      <td>1</td>\n",
       "      <td>0</td>\n",
       "      <td>0</td>\n",
       "      <td>1</td>\n",
       "      <td>1</td>\n",
       "    </tr>\n",
       "    <tr>\n",
       "      <th>4</th>\n",
       "      <td>4</td>\n",
       "      <td>17474</td>\n",
       "      <td>1</td>\n",
       "      <td>156</td>\n",
       "      <td>56.0</td>\n",
       "      <td>100</td>\n",
       "      <td>60</td>\n",
       "      <td>1</td>\n",
       "      <td>1</td>\n",
       "      <td>0</td>\n",
       "      <td>0</td>\n",
       "      <td>0</td>\n",
       "      <td>0</td>\n",
       "    </tr>\n",
       "    <tr>\n",
       "      <th>...</th>\n",
       "      <td>...</td>\n",
       "      <td>...</td>\n",
       "      <td>...</td>\n",
       "      <td>...</td>\n",
       "      <td>...</td>\n",
       "      <td>...</td>\n",
       "      <td>...</td>\n",
       "      <td>...</td>\n",
       "      <td>...</td>\n",
       "      <td>...</td>\n",
       "      <td>...</td>\n",
       "      <td>...</td>\n",
       "      <td>...</td>\n",
       "    </tr>\n",
       "    <tr>\n",
       "      <th>69995</th>\n",
       "      <td>99993</td>\n",
       "      <td>19240</td>\n",
       "      <td>2</td>\n",
       "      <td>168</td>\n",
       "      <td>76.0</td>\n",
       "      <td>120</td>\n",
       "      <td>80</td>\n",
       "      <td>1</td>\n",
       "      <td>1</td>\n",
       "      <td>1</td>\n",
       "      <td>0</td>\n",
       "      <td>1</td>\n",
       "      <td>0</td>\n",
       "    </tr>\n",
       "    <tr>\n",
       "      <th>69996</th>\n",
       "      <td>99995</td>\n",
       "      <td>22601</td>\n",
       "      <td>1</td>\n",
       "      <td>158</td>\n",
       "      <td>126.0</td>\n",
       "      <td>140</td>\n",
       "      <td>90</td>\n",
       "      <td>2</td>\n",
       "      <td>2</td>\n",
       "      <td>0</td>\n",
       "      <td>0</td>\n",
       "      <td>1</td>\n",
       "      <td>1</td>\n",
       "    </tr>\n",
       "    <tr>\n",
       "      <th>69997</th>\n",
       "      <td>99996</td>\n",
       "      <td>19066</td>\n",
       "      <td>2</td>\n",
       "      <td>183</td>\n",
       "      <td>105.0</td>\n",
       "      <td>180</td>\n",
       "      <td>90</td>\n",
       "      <td>3</td>\n",
       "      <td>1</td>\n",
       "      <td>0</td>\n",
       "      <td>1</td>\n",
       "      <td>0</td>\n",
       "      <td>1</td>\n",
       "    </tr>\n",
       "    <tr>\n",
       "      <th>69998</th>\n",
       "      <td>99998</td>\n",
       "      <td>22431</td>\n",
       "      <td>1</td>\n",
       "      <td>163</td>\n",
       "      <td>72.0</td>\n",
       "      <td>135</td>\n",
       "      <td>80</td>\n",
       "      <td>1</td>\n",
       "      <td>2</td>\n",
       "      <td>0</td>\n",
       "      <td>0</td>\n",
       "      <td>0</td>\n",
       "      <td>1</td>\n",
       "    </tr>\n",
       "    <tr>\n",
       "      <th>69999</th>\n",
       "      <td>99999</td>\n",
       "      <td>20540</td>\n",
       "      <td>1</td>\n",
       "      <td>170</td>\n",
       "      <td>72.0</td>\n",
       "      <td>120</td>\n",
       "      <td>80</td>\n",
       "      <td>2</td>\n",
       "      <td>1</td>\n",
       "      <td>0</td>\n",
       "      <td>0</td>\n",
       "      <td>1</td>\n",
       "      <td>0</td>\n",
       "    </tr>\n",
       "  </tbody>\n",
       "</table>\n",
       "<p>70000 rows × 13 columns</p>\n",
       "</div>"
      ],
      "text/plain": [
       "          id    age  gender  height  weight  ap_hi  ap_lo  cholesterol  gluc  \\\n",
       "0          0  18393       2     168    62.0    110     80            1     1   \n",
       "1          1  20228       1     156    85.0    140     90            3     1   \n",
       "2          2  18857       1     165    64.0    130     70            3     1   \n",
       "3          3  17623       2     169    82.0    150    100            1     1   \n",
       "4          4  17474       1     156    56.0    100     60            1     1   \n",
       "...      ...    ...     ...     ...     ...    ...    ...          ...   ...   \n",
       "69995  99993  19240       2     168    76.0    120     80            1     1   \n",
       "69996  99995  22601       1     158   126.0    140     90            2     2   \n",
       "69997  99996  19066       2     183   105.0    180     90            3     1   \n",
       "69998  99998  22431       1     163    72.0    135     80            1     2   \n",
       "69999  99999  20540       1     170    72.0    120     80            2     1   \n",
       "\n",
       "       smoke  alco  active  cardio  \n",
       "0          0     0       1       0  \n",
       "1          0     0       1       1  \n",
       "2          0     0       0       1  \n",
       "3          0     0       1       1  \n",
       "4          0     0       0       0  \n",
       "...      ...   ...     ...     ...  \n",
       "69995      1     0       1       0  \n",
       "69996      0     0       1       1  \n",
       "69997      0     1       0       1  \n",
       "69998      0     0       0       1  \n",
       "69999      0     0       1       0  \n",
       "\n",
       "[70000 rows x 13 columns]"
      ]
     },
     "metadata": {},
     "output_type": "display_data"
    }
   ],
   "source": [
    "data = pd.read_csv(\"cardio_train.csv\", sep=';')\n",
    "header = data.columns\n",
    "display(data)"
   ]
  },
  {
   "cell_type": "markdown",
   "metadata": {},
   "source": [
    "### Crear el modelo\n",
    "\n",
    "Una vez se tienen los datos, ya se puede crear el modelo."
   ]
  },
  {
   "cell_type": "code",
   "execution_count": 3,
   "metadata": {},
   "outputs": [],
   "source": [
    "from sklearn.tree import DecisionTreeClassifier"
   ]
  },
  {
   "cell_type": "code",
   "execution_count": 4,
   "metadata": {},
   "outputs": [],
   "source": [
    "dtc = DecisionTreeClassifier()"
   ]
  },
  {
   "cell_type": "markdown",
   "metadata": {},
   "source": [
    "### Entrenar el modelo\n",
    "\n",
    "Es importante eliminar la columna ***id*** porque representa un valor que es único para cada paciente. Esto, si se introduce en los modelos, puede impedir que realicen clasificaciones generalizables, y puede que aprendan incorrectamente.\n",
    "\n",
    "Por ejemplo, un árbol de decisión podría determinar que un modelo es muy bueno porque afirma:\n",
    "```\n",
    "SI id=1 ENTONCES \n",
    "    cardio=1\n",
    "\n",
    "SI id=2 ENTONCES \n",
    "    cardio=1\n",
    "\n",
    "...\n",
    "```\n",
    "\n",
    "Lo cual se corresponde correctamente con sus datos. Pero si se inserta un paciente con un *id* desconocido no sabría clasificarlo."
   ]
  },
  {
   "cell_type": "code",
   "execution_count": 5,
   "metadata": {},
   "outputs": [
    {
     "data": {
      "text/plain": [
       "DecisionTreeClassifier()"
      ]
     },
     "execution_count": 5,
     "metadata": {},
     "output_type": "execute_result"
    }
   ],
   "source": [
    "X = data[header[1:-1]] #Se quita, ademas de la clase, el id\n",
    "y = data[header[-1]]\n",
    "dtc.fit(X, y)"
   ]
  },
  {
   "cell_type": "markdown",
   "metadata": {},
   "source": [
    "### Evaluar el modelo\n",
    "\n",
    "Para evaluar el modelo se va a usar la **matriz de confusión** y, usando los valores que proporcione, se van a calcular:\n",
    "\n",
    " * **Tasa de aciertos**\n",
    " * **Precisión**\n",
    " * **Sensibilidad**\n",
    " * **Tasa de falsos positivos**\n",
    " * **Especificidad**\n",
    " * **Puntuación F1**\n",
    " * **Área bajo de la curva ROC**"
   ]
  },
  {
   "cell_type": "code",
   "execution_count": 6,
   "metadata": {},
   "outputs": [],
   "source": [
    "from sklearn.metrics import confusion_matrix"
   ]
  },
  {
   "cell_type": "code",
   "execution_count": 7,
   "metadata": {},
   "outputs": [],
   "source": [
    "y_pred = dtc.predict(X)"
   ]
  },
  {
   "cell_type": "code",
   "execution_count": 8,
   "metadata": {},
   "outputs": [],
   "source": [
    "def confusionMatrix(y, y_pred):\n",
    "    true_matrix = ['Real Enfermedad', 'Real No Enfermedad']\n",
    "    pred_matrix = ['Predicho Enfermedad', 'Predicho No Enfermedad']\n",
    "\n",
    "    tn, fp, fn, tp = confusion_matrix(y, y_pred).ravel()\n",
    "\n",
    "    return pd.DataFrame([[tp, fp], [fn, tn]], columns=true_matrix, index=pred_matrix)"
   ]
  },
  {
   "cell_type": "code",
   "execution_count": 9,
   "metadata": {},
   "outputs": [
    {
     "data": {
      "text/html": [
       "<div>\n",
       "<style scoped>\n",
       "    .dataframe tbody tr th:only-of-type {\n",
       "        vertical-align: middle;\n",
       "    }\n",
       "\n",
       "    .dataframe tbody tr th {\n",
       "        vertical-align: top;\n",
       "    }\n",
       "\n",
       "    .dataframe thead th {\n",
       "        text-align: right;\n",
       "    }\n",
       "</style>\n",
       "<table border=\"1\" class=\"dataframe\">\n",
       "  <thead>\n",
       "    <tr style=\"text-align: right;\">\n",
       "      <th></th>\n",
       "      <th>Real Enfermedad</th>\n",
       "      <th>Real No Enfermedad</th>\n",
       "    </tr>\n",
       "  </thead>\n",
       "  <tbody>\n",
       "    <tr>\n",
       "      <th>Predicho Enfermedad</th>\n",
       "      <td>34962</td>\n",
       "      <td>0</td>\n",
       "    </tr>\n",
       "    <tr>\n",
       "      <th>Predicho No Enfermedad</th>\n",
       "      <td>17</td>\n",
       "      <td>35021</td>\n",
       "    </tr>\n",
       "  </tbody>\n",
       "</table>\n",
       "</div>"
      ],
      "text/plain": [
       "                        Real Enfermedad  Real No Enfermedad\n",
       "Predicho Enfermedad               34962                   0\n",
       "Predicho No Enfermedad               17               35021"
      ]
     },
     "metadata": {},
     "output_type": "display_data"
    }
   ],
   "source": [
    "matrix = confusionMatrix(y, y_pred)\n",
    "display(matrix)"
   ]
  },
  {
   "cell_type": "markdown",
   "metadata": {},
   "source": [
    "Este árbol no consigue una clasificación perfecta a pesar de estar siendo evaluado sobre el conjunto de entrenamiento. Esto se debe a que seguramente haya datos incoherentes, por lo que el modelo los clasifica en la misma clase aunque no pertenezcan a ella, tal y como se ve en la matriz de confusión. Hay 17 pacientes a los que se predice como que no tienen la enfermedad incorrectamente.\n",
    "\n",
    "Esto no indica que este árbol haya generado un buen clasificador, porque no se ha evaluado con ejemplos desconocidos para el modelo.\n",
    "\n",
    "Aún así, se va a proceder a evaluar este modelo con las métricas mencionadas anteriormente, para poder realizar una explicación en mayor profundidad de las mismas, aunque sus valores no aporten demasiada información."
   ]
  },
  {
   "cell_type": "markdown",
   "metadata": {},
   "source": [
    "#### Tasa de aciertos\n",
    "\n",
    "También llamada *accuracy*, y mide el porcentaje de instancias **correctamente clasificadas**. Aporta una visión general de como de bueno es el modelo desde una perspectiva general.\n",
    "\n",
    "$\\displaystyle accuracy = \\frac{TP + TN}{TP + TN + FP + FN}$"
   ]
  },
  {
   "cell_type": "code",
   "execution_count": 10,
   "metadata": {},
   "outputs": [],
   "source": [
    "from sklearn.metrics import accuracy_score"
   ]
  },
  {
   "cell_type": "code",
   "execution_count": 11,
   "metadata": {},
   "outputs": [],
   "source": [
    "def accuracy(y, y_pred):\n",
    "    return accuracy_score(y, y_pred) * 100"
   ]
  },
  {
   "cell_type": "code",
   "execution_count": 12,
   "metadata": {},
   "outputs": [
    {
     "name": "stdout",
     "output_type": "stream",
     "text": [
      "Se clasifican correctamente un 99.97571428571429% de las instancias\n"
     ]
    }
   ],
   "source": [
    "acc = accuracy(y, y_pred)\n",
    "print(\"Se clasifican correctamente un \" + str(acc) + \"% de las instancias\")"
   ]
  },
  {
   "cell_type": "markdown",
   "metadata": {},
   "source": [
    "#### Precisión\n",
    "\n",
    "Identifica que porcentaje de instancias clasificadas como positivas, lo **son realmente**. Es útil para conocer la precisión del modelo cuando asegura que una instancia es positiva.\n",
    "\n",
    "$\\displaystyle precision = \\frac{TP}{TP + FP}$"
   ]
  },
  {
   "cell_type": "code",
   "execution_count": 13,
   "metadata": {},
   "outputs": [],
   "source": [
    "from sklearn.metrics import precision_score"
   ]
  },
  {
   "cell_type": "code",
   "execution_count": 14,
   "metadata": {},
   "outputs": [],
   "source": [
    "def precision(y, y_pred):\n",
    "    return precision_score(y, y_pred) * 100"
   ]
  },
  {
   "cell_type": "code",
   "execution_count": 15,
   "metadata": {},
   "outputs": [
    {
     "name": "stdout",
     "output_type": "stream",
     "text": [
      "Se clasifican correctamente un 100.0% de las instancias positivas\n"
     ]
    }
   ],
   "source": [
    "prec = precision(y, y_pred)\n",
    "print(\"Se clasifican correctamente un \" + str(prec) + \"% de las instancias positivas\")"
   ]
  },
  {
   "cell_type": "markdown",
   "metadata": {},
   "source": [
    "#### Sensibilidad\n",
    "\n",
    "También denominado *recall* o *sensitivity*. Indica qué porcentaje de las instancias positivas son clasificadas **correctamente**. Es útil para conocer la precisión del modelo para determinar que una instancia positiva lo es, o se equivoca.\n",
    "\n",
    "$\\displaystyle recall = \\frac{TP}{TP + FN}$"
   ]
  },
  {
   "cell_type": "code",
   "execution_count": 16,
   "metadata": {},
   "outputs": [],
   "source": [
    "from sklearn.metrics import recall_score"
   ]
  },
  {
   "cell_type": "code",
   "execution_count": 17,
   "metadata": {},
   "outputs": [],
   "source": [
    "def recall(y, y_pred):\n",
    "    return recall_score(y, y_pred) * 100"
   ]
  },
  {
   "cell_type": "code",
   "execution_count": 18,
   "metadata": {},
   "outputs": [
    {
     "name": "stdout",
     "output_type": "stream",
     "text": [
      "El modelo acierta un 99.95139941107522% de las instancias positivas\n"
     ]
    }
   ],
   "source": [
    "rec = recall(y, y_pred)\n",
    "print(\"El modelo acierta un \" + str(rec) + \"% de las instancias positivas\")"
   ]
  },
  {
   "cell_type": "markdown",
   "metadata": {},
   "source": [
    "#### Tasa de falsos positivos\n",
    "\n",
    "Denominada por sus siglas en inglés *FPR*. Indica qué porcentaje de las instancias negativas son clasificadas **incorrectamente**. Es útil para conocer la precisión del modelo para determinar que una instancia negativa lo es, o se equivoca. \n",
    "\n",
    "$\\displaystyle FPR = \\frac{FP}{FP + TN}$"
   ]
  },
  {
   "cell_type": "code",
   "execution_count": 19,
   "metadata": {},
   "outputs": [],
   "source": [
    "def FPR(y, ypred):\n",
    "    tn, fp, fn, tp = confusion_matrix(y, y_pred).ravel()\n",
    "    return (fp/(fp + tn)) * 100"
   ]
  },
  {
   "cell_type": "code",
   "execution_count": 20,
   "metadata": {},
   "outputs": [
    {
     "name": "stdout",
     "output_type": "stream",
     "text": [
      "El modelo falla un 0.0% de las instancias negativas\n"
     ]
    }
   ],
   "source": [
    "fpr = FPR(y, y_pred)\n",
    "print(\"El modelo falla un \" + str(fpr) + \"% de las instancias negativas\")"
   ]
  },
  {
   "cell_type": "markdown",
   "metadata": {},
   "source": [
    "#### Especificidad\n",
    "\n",
    "Similar al *recall*, pero con el caso de los negativos. Indica qué porcentaje de las instancias negativas son clasificadas **correctamente**. Es útil para conocer la precisión del modelo para determinar que una instancia negativa lo es, o se equivoca.\n",
    "\n",
    "$\\displaystyle specificity = \\frac{TN}{TN + FP}$"
   ]
  },
  {
   "cell_type": "code",
   "execution_count": 21,
   "metadata": {},
   "outputs": [],
   "source": [
    "def specificity(y, y_pred):\n",
    "    tn, fp, fn, tp = confusion_matrix(y, y_pred).ravel()\n",
    "    return (tn/(fp + tn)) * 100"
   ]
  },
  {
   "cell_type": "code",
   "execution_count": 22,
   "metadata": {},
   "outputs": [
    {
     "name": "stdout",
     "output_type": "stream",
     "text": [
      "El modelo acierta un 100.0% de las instancias negativas\n"
     ]
    }
   ],
   "source": [
    "spec = specificity(y, y_pred)\n",
    "print(\"El modelo acierta un \" + str(spec) + \"% de las instancias negativas\")"
   ]
  },
  {
   "cell_type": "markdown",
   "metadata": {},
   "source": [
    "#### Puntuación F1\n",
    "\n",
    "Indica un valor que agrega la precisión y *recall* mediante una media armónica. El mejor valor es 1 y el peor, 0\n",
    "\n",
    "$\\displaystyle F1 = 2 \\frac{precision · recall}{precision + recall}$"
   ]
  },
  {
   "cell_type": "code",
   "execution_count": 23,
   "metadata": {},
   "outputs": [],
   "source": [
    "from sklearn.metrics import f1_score"
   ]
  },
  {
   "cell_type": "code",
   "execution_count": 24,
   "metadata": {},
   "outputs": [],
   "source": [
    "def F1(y, y_pred):\n",
    "    return f1_score(y, y_pred)"
   ]
  },
  {
   "cell_type": "code",
   "execution_count": 25,
   "metadata": {},
   "outputs": [
    {
     "name": "stdout",
     "output_type": "stream",
     "text": [
      "La puntuación F1 del modelo es: 0.999756937990592\n"
     ]
    }
   ],
   "source": [
    "f1 = F1(y, y_pred)\n",
    "print(\"La puntuación F1 del modelo es: \" + str(f1))"
   ]
  },
  {
   "cell_type": "markdown",
   "metadata": {},
   "source": [
    "#### Área bajo la curva ROC\n",
    "\n",
    "Hace referencia a la cantidad de instancias bien clasificadas si se va modificando el umbral de la *curva ROC*."
   ]
  },
  {
   "cell_type": "code",
   "execution_count": 26,
   "metadata": {},
   "outputs": [],
   "source": [
    "import matplotlib.pyplot as plt"
   ]
  },
  {
   "cell_type": "code",
   "execution_count": 27,
   "metadata": {},
   "outputs": [],
   "source": [
    "from sklearn.metrics import roc_auc_score, plot_roc_curve"
   ]
  },
  {
   "cell_type": "markdown",
   "metadata": {},
   "source": [
    "**Curva ROC**"
   ]
  },
  {
   "cell_type": "code",
   "execution_count": 28,
   "metadata": {},
   "outputs": [
    {
     "data": {
      "image/png": "[encoded data removed]",
      "text/plain": [
       "<Figure size 432x288 with 1 Axes>"
      ]
     },
     "metadata": {
      "needs_background": "light"
     },
     "output_type": "display_data"
    }
   ],
   "source": [
    "plot_roc_curve(dtc, X, y)\n",
    "plt.plot([0, 1], [0, 1], 'k--')\n",
    "plt.show()"
   ]
  },
  {
   "cell_type": "code",
   "execution_count": 29,
   "metadata": {},
   "outputs": [],
   "source": [
    "def AUROC(y, y_pred):\n",
    "    return roc_auc_score(y, y_pred) * 100"
   ]
  },
  {
   "cell_type": "code",
   "execution_count": 30,
   "metadata": {},
   "outputs": [
    {
     "name": "stdout",
     "output_type": "stream",
     "text": [
      "El área bajo la curva del modelo es el: 99.97569970553761%\n"
     ]
    }
   ],
   "source": [
    "auroc = AUROC(y, y_pred)\n",
    "print(\"El área bajo la curva del modelo es el: \" + str(auroc) + \"%\")"
   ]
  },
  {
   "cell_type": "markdown",
   "metadata": {},
   "source": [
    "Para resumir, todas las métricas son:"
   ]
  },
  {
   "cell_type": "code",
   "execution_count": 31,
   "metadata": {},
   "outputs": [],
   "source": [
    "def evaluation(y, y_pred):\n",
    "    acc = accuracy(y, y_pred)\n",
    "    prec = precision(y, y_pred)\n",
    "    rec = recall(y, y_pred)\n",
    "    fpr = FPR(y, y_pred)\n",
    "    spec = specificity(y, y_pred)\n",
    "    f1 = F1(y, y_pred)\n",
    "    auroc = AUROC(y, y_pred)\n",
    "\n",
    "    print(\"Se clasifican correctamente un \" + str(acc) + \"% de las instancias\")\n",
    "    print(\"Se clasifican correctamente un \" + str(prec) + \"% de las instancias positivas\")\n",
    "    print(\"El modelo acierta un \" + str(rec) + \"% de las instancias positivas\")\n",
    "    print(\"El modelo falla un \" + str(fpr) + \"% de las instancias negativas\")\n",
    "    print(\"El modelo acierta un \" + str(spec) + \"% de las instancias negativas\")\n",
    "    print(\"La puntuación F1 del modelo es: \" + str(f1))\n",
    "    print(\"El área bajo la curva del modelo es el: \" + str(auroc) + \"%\")\n",
    "    \n",
    "    return acc, prec, rec, fpr, spec, f1, auroc"
   ]
  },
  {
   "cell_type": "code",
   "execution_count": 32,
   "metadata": {},
   "outputs": [
    {
     "name": "stdout",
     "output_type": "stream",
     "text": [
      "Se clasifican correctamente un 99.97571428571429% de las instancias\n",
      "Se clasifican correctamente un 100.0% de las instancias positivas\n",
      "El modelo acierta un 99.95139941107522% de las instancias positivas\n",
      "El modelo falla un 0.0% de las instancias negativas\n",
      "El modelo acierta un 100.0% de las instancias negativas\n",
      "La puntuación F1 del modelo es: 0.999756937990592\n",
      "El área bajo la curva del modelo es el: 99.97569970553761%\n"
     ]
    }
   ],
   "source": [
    "ev = evaluation(y, y_pred)"
   ]
  },
  {
   "cell_type": "markdown",
   "metadata": {},
   "source": [
    "## Tarea 2: Inspección del árbol de decisión\n",
    "\n",
    "Una vez realizado el modelo, hay que entenderlo. Para ello se va a inspeccionar el árbol de clasificación generado, y después se van a responder las siguientes preguntas:\n",
    "\n",
    " 1. **¿Qué relevancia tienen los exámenes clínicos realizados a la hora de determinar la existencia de una enfermedad cardiovascular?**\n",
    " \n",
    " 2. **¿Es relevante la información (subjetiva) proporcionada por los pacientes a la hora de determinar la presencia de una enfermedad cardiovascular?**"
   ]
  },
  {
   "cell_type": "code",
   "execution_count": 33,
   "metadata": {},
   "outputs": [],
   "source": [
    "from sklearn import tree\n",
    "from subprocess import call"
   ]
  },
  {
   "cell_type": "code",
   "execution_count": 34,
   "metadata": {},
   "outputs": [
    {
     "name": "stdout",
     "output_type": "stream",
     "text": [
      "Profundidad del árbol generado: 66\n"
     ]
    }
   ],
   "source": [
    "print(\"Profundidad del árbol generado:\", dtc.get_depth())"
   ]
  },
  {
   "cell_type": "markdown",
   "metadata": {},
   "source": [
    "Dada la gran profundidad del árbol, que hace prácticamente imposible visualizarlo correctamente, se ha decidido analizar visualmente exclusivamente los 3 primeros niveles del árbol."
   ]
  },
  {
   "cell_type": "markdown",
   "metadata": {},
   "source": [
    "*Si la siguiente celda de código falla correr el comando:* `sudo apt install python-pydot python-pydot-ng graphviz`"
   ]
  },
  {
   "cell_type": "code",
   "execution_count": 35,
   "metadata": {},
   "outputs": [
    {
     "data": {
      "text/plain": [
       "0"
      ]
     },
     "execution_count": 35,
     "metadata": {},
     "output_type": "execute_result"
    }
   ],
   "source": [
    "tree.export_graphviz(dtc, out_file='tree.dot', feature_names=X.columns, max_depth=3)\n",
    "call(['dot', '-T', 'png', 'tree.dot', '-o', 'images/tree.png'])"
   ]
  },
  {
   "cell_type": "markdown",
   "metadata": {},
   "source": [
    "El árbol toma la siguiente forma:\n",
    "![](images/tree.png)"
   ]
  },
  {
   "cell_type": "code",
   "execution_count": 36,
   "metadata": {
    "scrolled": true
   },
   "outputs": [
    {
     "data": {
      "text/html": [
       "<div>\n",
       "<style scoped>\n",
       "    .dataframe tbody tr th:only-of-type {\n",
       "        vertical-align: middle;\n",
       "    }\n",
       "\n",
       "    .dataframe tbody tr th {\n",
       "        vertical-align: top;\n",
       "    }\n",
       "\n",
       "    .dataframe thead th {\n",
       "        text-align: right;\n",
       "    }\n",
       "</style>\n",
       "<table border=\"1\" class=\"dataframe\">\n",
       "  <thead>\n",
       "    <tr style=\"text-align: right;\">\n",
       "      <th></th>\n",
       "      <th>0</th>\n",
       "      <th>1</th>\n",
       "      <th>2</th>\n",
       "      <th>3</th>\n",
       "      <th>4</th>\n",
       "      <th>5</th>\n",
       "      <th>6</th>\n",
       "      <th>7</th>\n",
       "      <th>8</th>\n",
       "      <th>9</th>\n",
       "      <th>10</th>\n",
       "    </tr>\n",
       "  </thead>\n",
       "  <tbody>\n",
       "    <tr>\n",
       "      <th></th>\n",
       "      <td>age</td>\n",
       "      <td>gender</td>\n",
       "      <td>height</td>\n",
       "      <td>weight</td>\n",
       "      <td>ap_hi</td>\n",
       "      <td>ap_lo</td>\n",
       "      <td>cholesterol</td>\n",
       "      <td>gluc</td>\n",
       "      <td>smoke</td>\n",
       "      <td>alco</td>\n",
       "      <td>active</td>\n",
       "    </tr>\n",
       "    <tr>\n",
       "      <th></th>\n",
       "      <td>0.32543</td>\n",
       "      <td>0.0195096</td>\n",
       "      <td>0.144683</td>\n",
       "      <td>0.158494</td>\n",
       "      <td>0.23117</td>\n",
       "      <td>0.0408687</td>\n",
       "      <td>0.0329197</td>\n",
       "      <td>0.0176184</td>\n",
       "      <td>0.0087118</td>\n",
       "      <td>0.00829029</td>\n",
       "      <td>0.0123053</td>\n",
       "    </tr>\n",
       "  </tbody>\n",
       "</table>\n",
       "</div>"
      ],
      "text/plain": [
       "        0          1         2         3        4          5            6  \\\n",
       "      age     gender    height    weight    ap_hi      ap_lo  cholesterol   \n",
       "  0.32543  0.0195096  0.144683  0.158494  0.23117  0.0408687    0.0329197   \n",
       "\n",
       "          7          8           9         10  \n",
       "       gluc      smoke        alco     active  \n",
       "  0.0176184  0.0087118  0.00829029  0.0123053  "
      ]
     },
     "metadata": {},
     "output_type": "display_data"
    }
   ],
   "source": [
    "features_importance = pd.DataFrame([header[1:-1], dtc.feature_importances_], index=[\"\", \"\"])\n",
    "display(features_importance)"
   ]
  },
  {
   "cell_type": "markdown",
   "metadata": {},
   "source": [
    "### ¿Qué relevancia tienen los exámenes clínicos realizados a la hora de determinar la existencia de una enfermedad cardiovascular?\n",
    "\n",
    "Las variables que forman parte de los exámenes clínicos son:\n",
    "\n",
    " * *ap_hi*\n",
    " * *ap_lo*\n",
    " * *cholesterol*\n",
    " * *gluc*\n",
    " \n",
    "Como se puede apreciar en la imagen anterior, el atributo con mayor relevancia es *ap_hi*. Además, todas las variables del examen clínico se encuentran en los 3 primeros niveles, por lo que se podría afirmar que tienen gran importancia a la hora de determinar si el paciente padece o no de una enfermedad cardiovascular. Esto se debe a que son los atributos que son capaces de dividir de mejor forma al conjunto de datos.\n",
    "\n",
    "Asimismo, los valores con más importancia para el árbol son tanto *age* como *ap_hi*, por lo que el valor de examen clínico con más importancia sería este atributo, sin despreciar la utilidad de los demas, que también poseen números altos, y se encuentran en las partes altas del árbol."
   ]
  },
  {
   "cell_type": "code",
   "execution_count": 37,
   "metadata": {
    "scrolled": true
   },
   "outputs": [
    {
     "data": {
      "text/plain": [
       "0"
      ]
     },
     "execution_count": 37,
     "metadata": {},
     "output_type": "execute_result"
    }
   ],
   "source": [
    "tree.export_graphviz(dtc, out_file='tree2.dot', feature_names=X.columns, max_depth=4)\n",
    "call(['dot', '-T', 'png', 'tree2.dot', '-o', 'images/tree2.png'])"
   ]
  },
  {
   "cell_type": "markdown",
   "metadata": {},
   "source": [
    "![](images/tree2.png)"
   ]
  },
  {
   "cell_type": "markdown",
   "metadata": {},
   "source": [
    "### ¿Es relevante la información (subjetiva) proporcionada por los pacientes a la hora de determinar la presencia de una enfermedad cardiovascular?\n",
    "\n",
    "Los valores subjetivos son:\n",
    "\n",
    " * *smoke*\n",
    " * *alco*\n",
    " * *active*\n",
    "\n",
    "Ninguno de los valores subjetivos aparecen en los 3 primeros niveles, pero sí aparecen tanto *active* como *smoke* en el 4º nivel, por lo que se puede afirmar que poseen cierta importancia.\n",
    "\n",
    "Aún así, el modelo les asigna las 3 importancias más bajas. En orden descendente de relevancia, son: *active*, *alco* y *smoke*.\n",
    "\n",
    "Esto indica que, dentro de los atributos del estudio, son los menos determinantes."
   ]
  },
  {
   "cell_type": "markdown",
   "metadata": {},
   "source": [
    "## Tarea 3: Comparativa de modelos\n",
    "\n",
    "Dado que el modelo anterior no es de gran utilidad, entre otras cosas, porque no hay división entre conjunto de entrenamiento y de test, se va a realizar esta división usando la técnica de *validación cruzada*, con **7** cruces, por lo que en cada iteración, el conjunto de test contendrá 10000 pacientes.\n",
    "\n",
    "Además, se va a probar a cambiar los hiperparámetros del árbol, ya que en las tareas anteriores se dejaban con sus valores por defecto, y se van a crear nuevos modelos de clasificación con diferentes algoritmos, con el objetivo de encontrar la configuración del algoritmo que genere una mejor solución del problema.\n",
    "\n",
    "Los algoritmos de clasificación, con sus hiperparámetros, que se van a probar son:\n",
    "\n",
    "   * **Árboles de Clasificación**:\n",
    "    * *criterion*: \"gini\", \"entropy\"\n",
    "    * *splitter*: \"best\", \"random\"\n",
    "    * *max_depth*: None, 5, 10, 20, 50\n",
    "   * **K-Vecinos Cercanos**:\n",
    "    * *n_neighbors*: 2, 5, 10, 50\n",
    "    * *weights*: \"uniform\", \"distance\"\n",
    "   * **Regresión Logística**:\n",
    "    * *penalty*: \"none\", \"l1\", \"l2\"\n",
    "    * *C*: 0.5, 1.0, 2.0\n",
    "   * **Perceptrón Multicapa**:\n",
    "    * *learning_rate*: \"constant\", \"invscaling\", \"adaptive\"\n",
    "    * *hidden_layer_sizes*: (), (64,), (64, 64), (64, 64, 64)\n",
    "\n",
    "Aparte de hacer esta división sobre los datos, se probará a realizar, primero, la evaluación sin ninguna transformación y, después, *normalizando los datos*, para que los valores de las variables se encuentren todos dentro del mismo rango. Esto puede favorecer a los modelos como el *Perceptrón Multicapa* que usan los pesos de los valores para realizar la clasificación.\n",
    "\n",
    "Esto se hará con el objetivo de estudiar el comportamiento de los modelos sobre los datos con y sin normalización, para encontrar cómo funcionan mejor."
   ]
  },
  {
   "cell_type": "code",
   "execution_count": 38,
   "metadata": {},
   "outputs": [],
   "source": [
    "import warnings\n",
    "warnings.filterwarnings(\"ignore\")"
   ]
  },
  {
   "cell_type": "code",
   "execution_count": 39,
   "metadata": {},
   "outputs": [],
   "source": [
    "from sklearn.tree import DecisionTreeClassifier\n",
    "from sklearn.neighbors import KNeighborsClassifier\n",
    "from sklearn.linear_model import LogisticRegression\n",
    "from sklearn.neural_network import MLPClassifier"
   ]
  },
  {
   "cell_type": "code",
   "execution_count": 40,
   "metadata": {},
   "outputs": [],
   "source": [
    "from sklearn.model_selection import KFold"
   ]
  },
  {
   "cell_type": "markdown",
   "metadata": {},
   "source": [
    "En primer lugar, se va a crear un diccionario para guardar todos los algoritmos de clasificación con sus respectivos hiperparámentros."
   ]
  },
  {
   "cell_type": "code",
   "execution_count": 41,
   "metadata": {},
   "outputs": [],
   "source": [
    "classifiers = {\n",
    "    'Decision Tree': (DecisionTreeClassifier, {\n",
    "        'criterion': [\"gini\", \"entropy\"],\n",
    "        'splitter': [\"best\", \"random\"],\n",
    "        'max_depth': [None, 5, 10, 20, 50],\n",
    "    }),\n",
    "    'K-Nearest Neighbors': (KNeighborsClassifier, {\n",
    "        'n_neighbors': [2, 5, 10, 50],\n",
    "        'weights': [\"uniform\", \"distance\"],\n",
    "    }),\n",
    "    'Logistic Regression': (LogisticRegression, {\n",
    "        'penalty': [\"none\", \"l1\", \"l2\"],\n",
    "        'C': [0.5, 1.0, 2.0],\n",
    "    }),\n",
    "    'Multilayer Perceptron': (MLPClassifier, {\n",
    "        'learning_rate': [\"constant\", \"invscaling\", \"adaptive\"],\n",
    "        'hidden_layer_sizes': [(), (64,), (64, 64), (64, 64, 64)],\n",
    "    }), \n",
    "}"
   ]
  },
  {
   "cell_type": "markdown",
   "metadata": {},
   "source": [
    "Se va a crear la validación cruzada con 7 hojas."
   ]
  },
  {
   "cell_type": "code",
   "execution_count": 42,
   "metadata": {},
   "outputs": [],
   "source": [
    "cv = KFold(n_splits=7, shuffle=True, random_state=0)"
   ]
  },
  {
   "cell_type": "markdown",
   "metadata": {},
   "source": [
    "#### Bucle Entrenamiento"
   ]
  },
  {
   "cell_type": "code",
   "execution_count": 43,
   "metadata": {},
   "outputs": [],
   "source": [
    "import itertools\n",
    "import time"
   ]
  },
  {
   "cell_type": "code",
   "execution_count": 44,
   "metadata": {},
   "outputs": [],
   "source": [
    "results = []"
   ]
  },
  {
   "cell_type": "code",
   "execution_count": 45,
   "metadata": {
    "scrolled": false
   },
   "outputs": [
    {
     "name": "stdout",
     "output_type": "stream",
     "text": [
      "Fold: 0\n",
      "Fold time: 740.15\n",
      "Fold: 1\n",
      "Fold time: 661.46\n",
      "Fold: 2\n",
      "Fold time: 432.38\n",
      "Fold: 3\n",
      "Fold time: 822.98\n",
      "Fold: 4\n",
      "Fold time: 347.26\n",
      "Fold: 5\n",
      "Fold time: 455.18\n",
      "Fold: 6\n",
      "Fold time: 419.06\n",
      "\n",
      "\n",
      "It took 3878.49 seconds\n"
     ]
    }
   ],
   "source": [
    "start_time = time.time()\n",
    "for fold, (train_index, test_index) in enumerate(cv.split(X.values, y.values)):    \n",
    "    \n",
    "    print(\"Fold:\", fold)\n",
    "    start_fold_time = time.time()\n",
    "    \n",
    "    X_train, X_test = X.values[train_index], X.values[test_index]\n",
    "    y_train, y_test = y.values[train_index], y.values[test_index]\n",
    "    \n",
    "    for name_classifier, info_classifier in classifiers.items():\n",
    "                \n",
    "        func_classifier, hyper_classifier = info_classifier\n",
    "        hyper_keys, hyper_values = hyper_classifier.keys(), hyper_classifier.values()\n",
    "        \n",
    "        setups = [dict(zip(hyper_keys, v)) for v in itertools.product(*hyper_values)]\n",
    "        \n",
    "        for setup in setups:\n",
    "            try:\n",
    "                #**setup 'desenrrolla' el diccionario, de forma que da el nombre y valor del mismo\n",
    "                classifier = func_classifier(**setup)\n",
    "                classifier.fit(X_train, y_train)\n",
    "\n",
    "                y_pred = classifier.predict(X_test)\n",
    "\n",
    "                setup_string = \"\"\n",
    "                for i, j in zip(setup.keys(), setup.values()):\n",
    "                    setup_string += i[:3] + \":\" + str(j) + '; '\n",
    "                \n",
    "                \n",
    "                results.append({\n",
    "                    'Classifier': name_classifier,\n",
    "                    'Setup': setup_string,\n",
    "                    'Fold Number': fold,\n",
    "                    'Accuracy': accuracy(y_test, y_pred),\n",
    "                    'Precision': precision(y_test, y_pred),\n",
    "                    'Recall': recall(y_test, y_pred),\n",
    "                    'False Positive Rate': FPR(y_test, y_pred),\n",
    "                    'Specificity': specificity(y_test, y_pred),\n",
    "                    'F1': F1(y_test, y_pred),\n",
    "                    'AUROC': AUROC(y_test, y_pred),\n",
    "                })\n",
    "            except:\n",
    "                pass  \n",
    "    \n",
    "    print(\"Fold time:\", str(round(time.time() - start_fold_time, 2)))\n",
    "    \n",
    "end_time = time.time()\n",
    "\n",
    "print()\n",
    "print()\n",
    "\n",
    "print(\"It took \" + str(round(end_time - start_time, 2)) + \" seconds\")"
   ]
  },
  {
   "cell_type": "markdown",
   "metadata": {},
   "source": [
    "#### Evaluación\n",
    "\n",
    "Los resultados se agrupan por *'Classifier'* y por *'Setup'*, lo que genera unm total de **46 modelos** a evaluar."
   ]
  },
  {
   "cell_type": "code",
   "execution_count": 46,
   "metadata": {},
   "outputs": [],
   "source": [
    "header_results = ['Classifier', 'Setup', 'Accuracy', 'Precision', 'Recall',\n",
    "                  'False Positive Rate', 'Specificity', 'F1', 'AUROC']"
   ]
  },
  {
   "cell_type": "code",
   "execution_count": 47,
   "metadata": {},
   "outputs": [],
   "source": [
    "results_data = pd.DataFrame(results)\n",
    "\n",
    "results_table = results_data[header_results].groupby(['Classifier', 'Setup']).mean()"
   ]
  },
  {
   "cell_type": "markdown",
   "metadata": {},
   "source": [
    "A continuación se muestran los 10 mejores modelos según su ***'Accuracy'***."
   ]
  },
  {
   "cell_type": "code",
   "execution_count": 48,
   "metadata": {
    "scrolled": true
   },
   "outputs": [
    {
     "data": {
      "text/html": [
       "<div>\n",
       "<style scoped>\n",
       "    .dataframe tbody tr th:only-of-type {\n",
       "        vertical-align: middle;\n",
       "    }\n",
       "\n",
       "    .dataframe tbody tr th {\n",
       "        vertical-align: top;\n",
       "    }\n",
       "\n",
       "    .dataframe thead th {\n",
       "        text-align: right;\n",
       "    }\n",
       "</style>\n",
       "<table border=\"1\" class=\"dataframe\">\n",
       "  <thead>\n",
       "    <tr style=\"text-align: right;\">\n",
       "      <th></th>\n",
       "      <th></th>\n",
       "      <th>Accuracy</th>\n",
       "      <th>Precision</th>\n",
       "      <th>Recall</th>\n",
       "      <th>False Positive Rate</th>\n",
       "      <th>Specificity</th>\n",
       "      <th>F1</th>\n",
       "      <th>AUROC</th>\n",
       "    </tr>\n",
       "    <tr>\n",
       "      <th>Classifier</th>\n",
       "      <th>Setup</th>\n",
       "      <th></th>\n",
       "      <th></th>\n",
       "      <th></th>\n",
       "      <th></th>\n",
       "      <th></th>\n",
       "      <th></th>\n",
       "      <th></th>\n",
       "    </tr>\n",
       "  </thead>\n",
       "  <tbody>\n",
       "    <tr>\n",
       "      <th rowspan=\"4\" valign=\"top\">Decision Tree</th>\n",
       "      <th>cri:gini; spl:best; max:5;</th>\n",
       "      <td>73.164286</td>\n",
       "      <td>75.814456</td>\n",
       "      <td>67.983344</td>\n",
       "      <td>21.659819</td>\n",
       "      <td>78.340181</td>\n",
       "      <td>0.716832</td>\n",
       "      <td>73.161762</td>\n",
       "    </tr>\n",
       "    <tr>\n",
       "      <th>cri:entropy; spl:best; max:5;</th>\n",
       "      <td>73.114286</td>\n",
       "      <td>75.790637</td>\n",
       "      <td>67.876713</td>\n",
       "      <td>21.654808</td>\n",
       "      <td>78.345192</td>\n",
       "      <td>0.716132</td>\n",
       "      <td>73.110952</td>\n",
       "    </tr>\n",
       "    <tr>\n",
       "      <th>cri:entropy; spl:best; max:10;</th>\n",
       "      <td>72.747143</td>\n",
       "      <td>74.142207</td>\n",
       "      <td>69.887834</td>\n",
       "      <td>24.378524</td>\n",
       "      <td>75.621476</td>\n",
       "      <td>0.719238</td>\n",
       "      <td>72.754655</td>\n",
       "    </tr>\n",
       "    <tr>\n",
       "      <th>cri:gini; spl:best; max:10;</th>\n",
       "      <td>72.587143</td>\n",
       "      <td>74.261240</td>\n",
       "      <td>69.143990</td>\n",
       "      <td>23.949540</td>\n",
       "      <td>76.050460</td>\n",
       "      <td>0.715934</td>\n",
       "      <td>72.597225</td>\n",
       "    </tr>\n",
       "    <tr>\n",
       "      <th rowspan=\"2\" valign=\"top\">K-Nearest Neighbors</th>\n",
       "      <th>n_n:50; wei:distance;</th>\n",
       "      <td>71.154286</td>\n",
       "      <td>74.033704</td>\n",
       "      <td>65.128620</td>\n",
       "      <td>22.819217</td>\n",
       "      <td>77.180783</td>\n",
       "      <td>0.692897</td>\n",
       "      <td>71.154701</td>\n",
       "    </tr>\n",
       "    <tr>\n",
       "      <th>n_n:50; wei:uniform;</th>\n",
       "      <td>71.021429</td>\n",
       "      <td>74.781547</td>\n",
       "      <td>63.392184</td>\n",
       "      <td>21.352352</td>\n",
       "      <td>78.647648</td>\n",
       "      <td>0.686122</td>\n",
       "      <td>71.019916</td>\n",
       "    </tr>\n",
       "    <tr>\n",
       "      <th rowspan=\"4\" valign=\"top\">Logistic Regression</th>\n",
       "      <th>pen:none; C:0.5;</th>\n",
       "      <td>69.941429</td>\n",
       "      <td>71.489058</td>\n",
       "      <td>66.316737</td>\n",
       "      <td>26.420425</td>\n",
       "      <td>73.579575</td>\n",
       "      <td>0.687961</td>\n",
       "      <td>69.948156</td>\n",
       "    </tr>\n",
       "    <tr>\n",
       "      <th>pen:none; C:2.0;</th>\n",
       "      <td>69.941429</td>\n",
       "      <td>71.489058</td>\n",
       "      <td>66.316737</td>\n",
       "      <td>26.420425</td>\n",
       "      <td>73.579575</td>\n",
       "      <td>0.687961</td>\n",
       "      <td>69.948156</td>\n",
       "    </tr>\n",
       "    <tr>\n",
       "      <th>pen:none; C:1.0;</th>\n",
       "      <td>69.941429</td>\n",
       "      <td>71.489058</td>\n",
       "      <td>66.316737</td>\n",
       "      <td>26.420425</td>\n",
       "      <td>73.579575</td>\n",
       "      <td>0.687961</td>\n",
       "      <td>69.948156</td>\n",
       "    </tr>\n",
       "    <tr>\n",
       "      <th>pen:l2; C:0.5;</th>\n",
       "      <td>69.891429</td>\n",
       "      <td>71.410495</td>\n",
       "      <td>66.316211</td>\n",
       "      <td>26.523378</td>\n",
       "      <td>73.476622</td>\n",
       "      <td>0.687606</td>\n",
       "      <td>69.896417</td>\n",
       "    </tr>\n",
       "  </tbody>\n",
       "</table>\n",
       "</div>"
      ],
      "text/plain": [
       "                                                      Accuracy  Precision  \\\n",
       "Classifier          Setup                                                   \n",
       "Decision Tree       cri:gini; spl:best; max:5;       73.164286  75.814456   \n",
       "                    cri:entropy; spl:best; max:5;    73.114286  75.790637   \n",
       "                    cri:entropy; spl:best; max:10;   72.747143  74.142207   \n",
       "                    cri:gini; spl:best; max:10;      72.587143  74.261240   \n",
       "K-Nearest Neighbors n_n:50; wei:distance;            71.154286  74.033704   \n",
       "                    n_n:50; wei:uniform;             71.021429  74.781547   \n",
       "Logistic Regression pen:none; C:0.5;                 69.941429  71.489058   \n",
       "                    pen:none; C:2.0;                 69.941429  71.489058   \n",
       "                    pen:none; C:1.0;                 69.941429  71.489058   \n",
       "                    pen:l2; C:0.5;                   69.891429  71.410495   \n",
       "\n",
       "                                                        Recall  \\\n",
       "Classifier          Setup                                        \n",
       "Decision Tree       cri:gini; spl:best; max:5;       67.983344   \n",
       "                    cri:entropy; spl:best; max:5;    67.876713   \n",
       "                    cri:entropy; spl:best; max:10;   69.887834   \n",
       "                    cri:gini; spl:best; max:10;      69.143990   \n",
       "K-Nearest Neighbors n_n:50; wei:distance;            65.128620   \n",
       "                    n_n:50; wei:uniform;             63.392184   \n",
       "Logistic Regression pen:none; C:0.5;                 66.316737   \n",
       "                    pen:none; C:2.0;                 66.316737   \n",
       "                    pen:none; C:1.0;                 66.316737   \n",
       "                    pen:l2; C:0.5;                   66.316211   \n",
       "\n",
       "                                                     False Positive Rate  \\\n",
       "Classifier          Setup                                                  \n",
       "Decision Tree       cri:gini; spl:best; max:5;                 21.659819   \n",
       "                    cri:entropy; spl:best; max:5;              21.654808   \n",
       "                    cri:entropy; spl:best; max:10;             24.378524   \n",
       "                    cri:gini; spl:best; max:10;                23.949540   \n",
       "K-Nearest Neighbors n_n:50; wei:distance;                      22.819217   \n",
       "                    n_n:50; wei:uniform;                       21.352352   \n",
       "Logistic Regression pen:none; C:0.5;                           26.420425   \n",
       "                    pen:none; C:2.0;                           26.420425   \n",
       "                    pen:none; C:1.0;                           26.420425   \n",
       "                    pen:l2; C:0.5;                             26.523378   \n",
       "\n",
       "                                                     Specificity        F1  \\\n",
       "Classifier          Setup                                                    \n",
       "Decision Tree       cri:gini; spl:best; max:5;         78.340181  0.716832   \n",
       "                    cri:entropy; spl:best; max:5;      78.345192  0.716132   \n",
       "                    cri:entropy; spl:best; max:10;     75.621476  0.719238   \n",
       "                    cri:gini; spl:best; max:10;        76.050460  0.715934   \n",
       "K-Nearest Neighbors n_n:50; wei:distance;              77.180783  0.692897   \n",
       "                    n_n:50; wei:uniform;               78.647648  0.686122   \n",
       "Logistic Regression pen:none; C:0.5;                   73.579575  0.687961   \n",
       "                    pen:none; C:2.0;                   73.579575  0.687961   \n",
       "                    pen:none; C:1.0;                   73.579575  0.687961   \n",
       "                    pen:l2; C:0.5;                     73.476622  0.687606   \n",
       "\n",
       "                                                         AUROC  \n",
       "Classifier          Setup                                       \n",
       "Decision Tree       cri:gini; spl:best; max:5;       73.161762  \n",
       "                    cri:entropy; spl:best; max:5;    73.110952  \n",
       "                    cri:entropy; spl:best; max:10;   72.754655  \n",
       "                    cri:gini; spl:best; max:10;      72.597225  \n",
       "K-Nearest Neighbors n_n:50; wei:distance;            71.154701  \n",
       "                    n_n:50; wei:uniform;             71.019916  \n",
       "Logistic Regression pen:none; C:0.5;                 69.948156  \n",
       "                    pen:none; C:2.0;                 69.948156  \n",
       "                    pen:none; C:1.0;                 69.948156  \n",
       "                    pen:l2; C:0.5;                   69.896417  "
      ]
     },
     "execution_count": 48,
     "metadata": {},
     "output_type": "execute_result"
    }
   ],
   "source": [
    "results_table.sort_values(\"Accuracy\", ascending=False)[:10]"
   ]
  },
  {
   "cell_type": "markdown",
   "metadata": {},
   "source": [
    "En la tabla se puede ver que los mejores modelos respecto a la tasa de aciertos son *Árboles de Decisión*. Concretamente, el mejor tiene un *criterio* de **gini**, *divide* por el **mejor** y tiene una *profundidad máxima* de **5**.\n",
    "\n",
    "Dado que se trata de una aplicación médica, no es suficiente con usar esta métrica. Una forma de determinar un buen modelo de diagnóstico, aparte de su tasa de aciertos general, es su sensibilidad, o *recall*.\n",
    "\n",
    "Esto se debe a que en los diagnósticos médicos es de vital importancia que si un paciente es positivo, se clasifique como tal, ya que es mejor que determine que un paciente sano está enfermo, para que el médico le explore y lo confirme o desmienta, que el modelo determine que un paciente enfermo está sano, lo que podría conllevar problemas serios.\n",
    "\n",
    "\n",
    "A continuación, se van a mostrar los 10 modelos con mejor ***'Recall'***."
   ]
  },
  {
   "cell_type": "code",
   "execution_count": 49,
   "metadata": {
    "scrolled": true
   },
   "outputs": [
    {
     "data": {
      "text/html": [
       "<div>\n",
       "<style scoped>\n",
       "    .dataframe tbody tr th:only-of-type {\n",
       "        vertical-align: middle;\n",
       "    }\n",
       "\n",
       "    .dataframe tbody tr th {\n",
       "        vertical-align: top;\n",
       "    }\n",
       "\n",
       "    .dataframe thead th {\n",
       "        text-align: right;\n",
       "    }\n",
       "</style>\n",
       "<table border=\"1\" class=\"dataframe\">\n",
       "  <thead>\n",
       "    <tr style=\"text-align: right;\">\n",
       "      <th></th>\n",
       "      <th></th>\n",
       "      <th>Accuracy</th>\n",
       "      <th>Precision</th>\n",
       "      <th>Recall</th>\n",
       "      <th>False Positive Rate</th>\n",
       "      <th>Specificity</th>\n",
       "      <th>F1</th>\n",
       "      <th>AUROC</th>\n",
       "    </tr>\n",
       "    <tr>\n",
       "      <th>Classifier</th>\n",
       "      <th>Setup</th>\n",
       "      <th></th>\n",
       "      <th></th>\n",
       "      <th></th>\n",
       "      <th></th>\n",
       "      <th></th>\n",
       "      <th></th>\n",
       "      <th></th>\n",
       "    </tr>\n",
       "  </thead>\n",
       "  <tbody>\n",
       "    <tr>\n",
       "      <th rowspan=\"3\" valign=\"top\">Multilayer Perceptron</th>\n",
       "      <th>lea:adaptive; hid:();</th>\n",
       "      <td>63.431429</td>\n",
       "      <td>60.134473</td>\n",
       "      <td>88.009696</td>\n",
       "      <td>60.913937</td>\n",
       "      <td>39.086063</td>\n",
       "      <td>0.707293</td>\n",
       "      <td>63.547879</td>\n",
       "    </tr>\n",
       "    <tr>\n",
       "      <th>lea:constant; hid:();</th>\n",
       "      <td>67.337143</td>\n",
       "      <td>68.618189</td>\n",
       "      <td>71.503542</td>\n",
       "      <td>36.524003</td>\n",
       "      <td>63.475997</td>\n",
       "      <td>0.678990</td>\n",
       "      <td>67.489770</td>\n",
       "    </tr>\n",
       "    <tr>\n",
       "      <th>lea:constant; hid:(64, 64, 64);</th>\n",
       "      <td>64.741429</td>\n",
       "      <td>66.180207</td>\n",
       "      <td>70.153831</td>\n",
       "      <td>40.291813</td>\n",
       "      <td>59.708187</td>\n",
       "      <td>0.666039</td>\n",
       "      <td>64.931009</td>\n",
       "    </tr>\n",
       "    <tr>\n",
       "      <th rowspan=\"4\" valign=\"top\">Decision Tree</th>\n",
       "      <th>cri:entropy; spl:best; max:10;</th>\n",
       "      <td>72.747143</td>\n",
       "      <td>74.142207</td>\n",
       "      <td>69.887834</td>\n",
       "      <td>24.378524</td>\n",
       "      <td>75.621476</td>\n",
       "      <td>0.719238</td>\n",
       "      <td>72.754655</td>\n",
       "    </tr>\n",
       "    <tr>\n",
       "      <th>cri:gini; spl:best; max:10;</th>\n",
       "      <td>72.587143</td>\n",
       "      <td>74.261240</td>\n",
       "      <td>69.143990</td>\n",
       "      <td>23.949540</td>\n",
       "      <td>76.050460</td>\n",
       "      <td>0.715934</td>\n",
       "      <td>72.597225</td>\n",
       "    </tr>\n",
       "    <tr>\n",
       "      <th>cri:gini; spl:best; max:5;</th>\n",
       "      <td>73.164286</td>\n",
       "      <td>75.814456</td>\n",
       "      <td>67.983344</td>\n",
       "      <td>21.659819</td>\n",
       "      <td>78.340181</td>\n",
       "      <td>0.716832</td>\n",
       "      <td>73.161762</td>\n",
       "    </tr>\n",
       "    <tr>\n",
       "      <th>cri:entropy; spl:best; max:5;</th>\n",
       "      <td>73.114286</td>\n",
       "      <td>75.790637</td>\n",
       "      <td>67.876713</td>\n",
       "      <td>21.654808</td>\n",
       "      <td>78.345192</td>\n",
       "      <td>0.716132</td>\n",
       "      <td>73.110952</td>\n",
       "    </tr>\n",
       "    <tr>\n",
       "      <th rowspan=\"2\" valign=\"top\">K-Nearest Neighbors</th>\n",
       "      <th>n_n:10; wei:distance;</th>\n",
       "      <td>69.668571</td>\n",
       "      <td>70.755623</td>\n",
       "      <td>67.007306</td>\n",
       "      <td>27.664161</td>\n",
       "      <td>72.335839</td>\n",
       "      <td>0.688254</td>\n",
       "      <td>69.671573</td>\n",
       "    </tr>\n",
       "    <tr>\n",
       "      <th>n_n:5; wei:uniform;</th>\n",
       "      <td>68.170000</td>\n",
       "      <td>68.834873</td>\n",
       "      <td>66.358227</td>\n",
       "      <td>30.012916</td>\n",
       "      <td>69.987084</td>\n",
       "      <td>0.675683</td>\n",
       "      <td>68.172656</td>\n",
       "    </tr>\n",
       "    <tr>\n",
       "      <th>Logistic Regression</th>\n",
       "      <th>pen:none; C:0.5;</th>\n",
       "      <td>69.941429</td>\n",
       "      <td>71.489058</td>\n",
       "      <td>66.316737</td>\n",
       "      <td>26.420425</td>\n",
       "      <td>73.579575</td>\n",
       "      <td>0.687961</td>\n",
       "      <td>69.948156</td>\n",
       "    </tr>\n",
       "  </tbody>\n",
       "</table>\n",
       "</div>"
      ],
      "text/plain": [
       "                                                         Accuracy  Precision  \\\n",
       "Classifier            Setup                                                    \n",
       "Multilayer Perceptron lea:adaptive; hid:();             63.431429  60.134473   \n",
       "                      lea:constant; hid:();             67.337143  68.618189   \n",
       "                      lea:constant; hid:(64, 64, 64);   64.741429  66.180207   \n",
       "Decision Tree         cri:entropy; spl:best; max:10;    72.747143  74.142207   \n",
       "                      cri:gini; spl:best; max:10;       72.587143  74.261240   \n",
       "                      cri:gini; spl:best; max:5;        73.164286  75.814456   \n",
       "                      cri:entropy; spl:best; max:5;     73.114286  75.790637   \n",
       "K-Nearest Neighbors   n_n:10; wei:distance;             69.668571  70.755623   \n",
       "                      n_n:5; wei:uniform;               68.170000  68.834873   \n",
       "Logistic Regression   pen:none; C:0.5;                  69.941429  71.489058   \n",
       "\n",
       "                                                           Recall  \\\n",
       "Classifier            Setup                                         \n",
       "Multilayer Perceptron lea:adaptive; hid:();             88.009696   \n",
       "                      lea:constant; hid:();             71.503542   \n",
       "                      lea:constant; hid:(64, 64, 64);   70.153831   \n",
       "Decision Tree         cri:entropy; spl:best; max:10;    69.887834   \n",
       "                      cri:gini; spl:best; max:10;       69.143990   \n",
       "                      cri:gini; spl:best; max:5;        67.983344   \n",
       "                      cri:entropy; spl:best; max:5;     67.876713   \n",
       "K-Nearest Neighbors   n_n:10; wei:distance;             67.007306   \n",
       "                      n_n:5; wei:uniform;               66.358227   \n",
       "Logistic Regression   pen:none; C:0.5;                  66.316737   \n",
       "\n",
       "                                                        False Positive Rate  \\\n",
       "Classifier            Setup                                                   \n",
       "Multilayer Perceptron lea:adaptive; hid:();                       60.913937   \n",
       "                      lea:constant; hid:();                       36.524003   \n",
       "                      lea:constant; hid:(64, 64, 64);             40.291813   \n",
       "Decision Tree         cri:entropy; spl:best; max:10;              24.378524   \n",
       "                      cri:gini; spl:best; max:10;                 23.949540   \n",
       "                      cri:gini; spl:best; max:5;                  21.659819   \n",
       "                      cri:entropy; spl:best; max:5;               21.654808   \n",
       "K-Nearest Neighbors   n_n:10; wei:distance;                       27.664161   \n",
       "                      n_n:5; wei:uniform;                         30.012916   \n",
       "Logistic Regression   pen:none; C:0.5;                            26.420425   \n",
       "\n",
       "                                                        Specificity        F1  \\\n",
       "Classifier            Setup                                                     \n",
       "Multilayer Perceptron lea:adaptive; hid:();               39.086063  0.707293   \n",
       "                      lea:constant; hid:();               63.475997  0.678990   \n",
       "                      lea:constant; hid:(64, 64, 64);     59.708187  0.666039   \n",
       "Decision Tree         cri:entropy; spl:best; max:10;      75.621476  0.719238   \n",
       "                      cri:gini; spl:best; max:10;         76.050460  0.715934   \n",
       "                      cri:gini; spl:best; max:5;          78.340181  0.716832   \n",
       "                      cri:entropy; spl:best; max:5;       78.345192  0.716132   \n",
       "K-Nearest Neighbors   n_n:10; wei:distance;               72.335839  0.688254   \n",
       "                      n_n:5; wei:uniform;                 69.987084  0.675683   \n",
       "Logistic Regression   pen:none; C:0.5;                    73.579575  0.687961   \n",
       "\n",
       "                                                            AUROC  \n",
       "Classifier            Setup                                        \n",
       "Multilayer Perceptron lea:adaptive; hid:();             63.547879  \n",
       "                      lea:constant; hid:();             67.489770  \n",
       "                      lea:constant; hid:(64, 64, 64);   64.931009  \n",
       "Decision Tree         cri:entropy; spl:best; max:10;    72.754655  \n",
       "                      cri:gini; spl:best; max:10;       72.597225  \n",
       "                      cri:gini; spl:best; max:5;        73.161762  \n",
       "                      cri:entropy; spl:best; max:5;     73.110952  \n",
       "K-Nearest Neighbors   n_n:10; wei:distance;             69.671573  \n",
       "                      n_n:5; wei:uniform;               68.172656  \n",
       "Logistic Regression   pen:none; C:0.5;                  69.948156  "
      ]
     },
     "execution_count": 49,
     "metadata": {},
     "output_type": "execute_result"
    }
   ],
   "source": [
    "results_table.sort_values(\"Recall\", ascending=False)[:10]"
   ]
  },
  {
   "cell_type": "markdown",
   "metadata": {},
   "source": [
    "A partir de la tabla, se puede apreciar que respecto a esta métrica, el mejor modelo es el *Perceptrón Multicapa*.  Esto resulta llamativo, porque su tasa de aciertos es bastante baja en comparación con el resto de modelos. La interpretación que se da a este fenómeno es que el modelo ha aprendido a asegurar que un paciente está enfermo practicamente siempre.\n",
    "\n",
    "A pesar de que no clasificar pacientes enfermos como sanos es un comportamiento deseado, esto puede llegar a ser contraproducente porque, si se clasifica a la mayoría de pacientes como enfermos, el sistema deja de ser de utilidad, ya que hace que todos los pacientes tengan que ser examinados por los médicos para comprobar si se correponde con un *Falso Positivo*."
   ]
  },
  {
   "cell_type": "markdown",
   "metadata": {},
   "source": [
    "Por tanto, un buen modelo será aquel que tenga tanto una tasa de aprendizaje alta como una sensibilidad alta. El mejor modelo con el que se cuenta que cumpla estos dos requisitos es: \n",
    "\n",
    "***Árbol de Decisión*** con:\n",
    " * *criterio* &#8594; entropía\n",
    " * *decisión* &#8594; mejor\n",
    " * *profundidad máxima* &#8594; 10\n",
    "\n",
    "***'Accuracy'*** de *72.747143%* y un ***'Recall'*** de *69.887834%*."
   ]
  },
  {
   "cell_type": "markdown",
   "metadata": {},
   "source": [
    "### Normalización de los datos\n",
    "\n",
    "Tras la evaluación anterior, se va a proceder a normalizar los datos para comprobar si se obtienen mejores resultados de esta forma."
   ]
  },
  {
   "cell_type": "code",
   "execution_count": 50,
   "metadata": {},
   "outputs": [],
   "source": [
    "norm_data = data.copy()\n",
    "\n",
    "for column in header:\n",
    "    min_value = min(norm_data[column])\n",
    "    max_value = max(norm_data[column])\n",
    "    norm_data[column] = (norm_data[column] - min_value)/(max_value - min_value)"
   ]
  },
  {
   "cell_type": "code",
   "execution_count": 51,
   "metadata": {},
   "outputs": [
    {
     "data": {
      "text/html": [
       "<div>\n",
       "<style scoped>\n",
       "    .dataframe tbody tr th:only-of-type {\n",
       "        vertical-align: middle;\n",
       "    }\n",
       "\n",
       "    .dataframe tbody tr th {\n",
       "        vertical-align: top;\n",
       "    }\n",
       "\n",
       "    .dataframe thead th {\n",
       "        text-align: right;\n",
       "    }\n",
       "</style>\n",
       "<table border=\"1\" class=\"dataframe\">\n",
       "  <thead>\n",
       "    <tr style=\"text-align: right;\">\n",
       "      <th></th>\n",
       "      <th>id</th>\n",
       "      <th>age</th>\n",
       "      <th>gender</th>\n",
       "      <th>height</th>\n",
       "      <th>weight</th>\n",
       "      <th>ap_hi</th>\n",
       "      <th>ap_lo</th>\n",
       "      <th>cholesterol</th>\n",
       "      <th>gluc</th>\n",
       "      <th>smoke</th>\n",
       "      <th>alco</th>\n",
       "      <th>active</th>\n",
       "      <th>cardio</th>\n",
       "    </tr>\n",
       "  </thead>\n",
       "  <tbody>\n",
       "    <tr>\n",
       "      <th>0</th>\n",
       "      <td>0.00000</td>\n",
       "      <td>0.588076</td>\n",
       "      <td>1.0</td>\n",
       "      <td>0.579487</td>\n",
       "      <td>0.273684</td>\n",
       "      <td>0.016079</td>\n",
       "      <td>0.013550</td>\n",
       "      <td>0.0</td>\n",
       "      <td>0.0</td>\n",
       "      <td>0.0</td>\n",
       "      <td>0.0</td>\n",
       "      <td>1.0</td>\n",
       "      <td>0.0</td>\n",
       "    </tr>\n",
       "    <tr>\n",
       "      <th>1</th>\n",
       "      <td>0.00001</td>\n",
       "      <td>0.730159</td>\n",
       "      <td>0.0</td>\n",
       "      <td>0.517949</td>\n",
       "      <td>0.394737</td>\n",
       "      <td>0.017934</td>\n",
       "      <td>0.014453</td>\n",
       "      <td>1.0</td>\n",
       "      <td>0.0</td>\n",
       "      <td>0.0</td>\n",
       "      <td>0.0</td>\n",
       "      <td>1.0</td>\n",
       "      <td>1.0</td>\n",
       "    </tr>\n",
       "    <tr>\n",
       "      <th>2</th>\n",
       "      <td>0.00002</td>\n",
       "      <td>0.624003</td>\n",
       "      <td>0.0</td>\n",
       "      <td>0.564103</td>\n",
       "      <td>0.284211</td>\n",
       "      <td>0.017316</td>\n",
       "      <td>0.012647</td>\n",
       "      <td>1.0</td>\n",
       "      <td>0.0</td>\n",
       "      <td>0.0</td>\n",
       "      <td>0.0</td>\n",
       "      <td>0.0</td>\n",
       "      <td>1.0</td>\n",
       "    </tr>\n",
       "    <tr>\n",
       "      <th>3</th>\n",
       "      <td>0.00003</td>\n",
       "      <td>0.528455</td>\n",
       "      <td>1.0</td>\n",
       "      <td>0.584615</td>\n",
       "      <td>0.378947</td>\n",
       "      <td>0.018553</td>\n",
       "      <td>0.015357</td>\n",
       "      <td>0.0</td>\n",
       "      <td>0.0</td>\n",
       "      <td>0.0</td>\n",
       "      <td>0.0</td>\n",
       "      <td>1.0</td>\n",
       "      <td>1.0</td>\n",
       "    </tr>\n",
       "    <tr>\n",
       "      <th>4</th>\n",
       "      <td>0.00004</td>\n",
       "      <td>0.516918</td>\n",
       "      <td>0.0</td>\n",
       "      <td>0.517949</td>\n",
       "      <td>0.242105</td>\n",
       "      <td>0.015461</td>\n",
       "      <td>0.011743</td>\n",
       "      <td>0.0</td>\n",
       "      <td>0.0</td>\n",
       "      <td>0.0</td>\n",
       "      <td>0.0</td>\n",
       "      <td>0.0</td>\n",
       "      <td>0.0</td>\n",
       "    </tr>\n",
       "    <tr>\n",
       "      <th>...</th>\n",
       "      <td>...</td>\n",
       "      <td>...</td>\n",
       "      <td>...</td>\n",
       "      <td>...</td>\n",
       "      <td>...</td>\n",
       "      <td>...</td>\n",
       "      <td>...</td>\n",
       "      <td>...</td>\n",
       "      <td>...</td>\n",
       "      <td>...</td>\n",
       "      <td>...</td>\n",
       "      <td>...</td>\n",
       "      <td>...</td>\n",
       "    </tr>\n",
       "    <tr>\n",
       "      <th>69995</th>\n",
       "      <td>0.99994</td>\n",
       "      <td>0.653659</td>\n",
       "      <td>1.0</td>\n",
       "      <td>0.579487</td>\n",
       "      <td>0.347368</td>\n",
       "      <td>0.016698</td>\n",
       "      <td>0.013550</td>\n",
       "      <td>0.0</td>\n",
       "      <td>0.0</td>\n",
       "      <td>1.0</td>\n",
       "      <td>0.0</td>\n",
       "      <td>1.0</td>\n",
       "      <td>0.0</td>\n",
       "    </tr>\n",
       "    <tr>\n",
       "      <th>69996</th>\n",
       "      <td>0.99996</td>\n",
       "      <td>0.913899</td>\n",
       "      <td>0.0</td>\n",
       "      <td>0.528205</td>\n",
       "      <td>0.610526</td>\n",
       "      <td>0.017934</td>\n",
       "      <td>0.014453</td>\n",
       "      <td>0.5</td>\n",
       "      <td>0.5</td>\n",
       "      <td>0.0</td>\n",
       "      <td>0.0</td>\n",
       "      <td>1.0</td>\n",
       "      <td>1.0</td>\n",
       "    </tr>\n",
       "    <tr>\n",
       "      <th>69997</th>\n",
       "      <td>0.99997</td>\n",
       "      <td>0.640186</td>\n",
       "      <td>1.0</td>\n",
       "      <td>0.656410</td>\n",
       "      <td>0.500000</td>\n",
       "      <td>0.020408</td>\n",
       "      <td>0.014453</td>\n",
       "      <td>1.0</td>\n",
       "      <td>0.0</td>\n",
       "      <td>0.0</td>\n",
       "      <td>1.0</td>\n",
       "      <td>0.0</td>\n",
       "      <td>1.0</td>\n",
       "    </tr>\n",
       "    <tr>\n",
       "      <th>69998</th>\n",
       "      <td>0.99999</td>\n",
       "      <td>0.900736</td>\n",
       "      <td>0.0</td>\n",
       "      <td>0.553846</td>\n",
       "      <td>0.326316</td>\n",
       "      <td>0.017625</td>\n",
       "      <td>0.013550</td>\n",
       "      <td>0.0</td>\n",
       "      <td>0.5</td>\n",
       "      <td>0.0</td>\n",
       "      <td>0.0</td>\n",
       "      <td>0.0</td>\n",
       "      <td>1.0</td>\n",
       "    </tr>\n",
       "    <tr>\n",
       "      <th>69999</th>\n",
       "      <td>1.00000</td>\n",
       "      <td>0.754317</td>\n",
       "      <td>0.0</td>\n",
       "      <td>0.589744</td>\n",
       "      <td>0.326316</td>\n",
       "      <td>0.016698</td>\n",
       "      <td>0.013550</td>\n",
       "      <td>0.5</td>\n",
       "      <td>0.0</td>\n",
       "      <td>0.0</td>\n",
       "      <td>0.0</td>\n",
       "      <td>1.0</td>\n",
       "      <td>0.0</td>\n",
       "    </tr>\n",
       "  </tbody>\n",
       "</table>\n",
       "<p>70000 rows × 13 columns</p>\n",
       "</div>"
      ],
      "text/plain": [
       "            id       age  gender    height    weight     ap_hi     ap_lo  \\\n",
       "0      0.00000  0.588076     1.0  0.579487  0.273684  0.016079  0.013550   \n",
       "1      0.00001  0.730159     0.0  0.517949  0.394737  0.017934  0.014453   \n",
       "2      0.00002  0.624003     0.0  0.564103  0.284211  0.017316  0.012647   \n",
       "3      0.00003  0.528455     1.0  0.584615  0.378947  0.018553  0.015357   \n",
       "4      0.00004  0.516918     0.0  0.517949  0.242105  0.015461  0.011743   \n",
       "...        ...       ...     ...       ...       ...       ...       ...   \n",
       "69995  0.99994  0.653659     1.0  0.579487  0.347368  0.016698  0.013550   \n",
       "69996  0.99996  0.913899     0.0  0.528205  0.610526  0.017934  0.014453   \n",
       "69997  0.99997  0.640186     1.0  0.656410  0.500000  0.020408  0.014453   \n",
       "69998  0.99999  0.900736     0.0  0.553846  0.326316  0.017625  0.013550   \n",
       "69999  1.00000  0.754317     0.0  0.589744  0.326316  0.016698  0.013550   \n",
       "\n",
       "       cholesterol  gluc  smoke  alco  active  cardio  \n",
       "0              0.0   0.0    0.0   0.0     1.0     0.0  \n",
       "1              1.0   0.0    0.0   0.0     1.0     1.0  \n",
       "2              1.0   0.0    0.0   0.0     0.0     1.0  \n",
       "3              0.0   0.0    0.0   0.0     1.0     1.0  \n",
       "4              0.0   0.0    0.0   0.0     0.0     0.0  \n",
       "...            ...   ...    ...   ...     ...     ...  \n",
       "69995          0.0   0.0    1.0   0.0     1.0     0.0  \n",
       "69996          0.5   0.5    0.0   0.0     1.0     1.0  \n",
       "69997          1.0   0.0    0.0   1.0     0.0     1.0  \n",
       "69998          0.0   0.5    0.0   0.0     0.0     1.0  \n",
       "69999          0.5   0.0    0.0   0.0     1.0     0.0  \n",
       "\n",
       "[70000 rows x 13 columns]"
      ]
     },
     "metadata": {},
     "output_type": "display_data"
    }
   ],
   "source": [
    "display(norm_data)"
   ]
  },
  {
   "cell_type": "markdown",
   "metadata": {},
   "source": [
    "#### Bucle Entrenamiento"
   ]
  },
  {
   "cell_type": "code",
   "execution_count": 52,
   "metadata": {},
   "outputs": [],
   "source": [
    "results_norm = []"
   ]
  },
  {
   "cell_type": "code",
   "execution_count": 53,
   "metadata": {},
   "outputs": [],
   "source": [
    "X_norm = norm_data[header[1:-1]] #Se tiene que volver a quitar el 'id'\n",
    "y_norm = norm_data[header[-1]]"
   ]
  },
  {
   "cell_type": "code",
   "execution_count": 54,
   "metadata": {
    "scrolled": false
   },
   "outputs": [
    {
     "name": "stdout",
     "output_type": "stream",
     "text": [
      "Fold: 0\n",
      "Fold time: 582.86\n",
      "Fold: 1\n",
      "Fold time: 688.51\n",
      "Fold: 2\n",
      "Fold time: 644.87\n",
      "Fold: 3\n",
      "Fold time: 554.65\n",
      "Fold: 4\n",
      "Fold time: 903.58\n",
      "Fold: 5\n",
      "Fold time: 541.45\n",
      "Fold: 6\n",
      "Fold time: 648.13\n",
      "\n",
      "\n",
      "It took 4564.07 seconds\n"
     ]
    }
   ],
   "source": [
    "start_time = time.time()\n",
    "for fold, (train_index, test_index) in enumerate(cv.split(X_norm.values, y_norm.values)):    \n",
    "    \n",
    "    print(\"Fold:\", fold)\n",
    "    start_fold_time = time.time()\n",
    "    \n",
    "    X_train, X_test = X.values[train_index], X.values[test_index]\n",
    "    y_train, y_test = y.values[train_index], y.values[test_index]\n",
    "    \n",
    "    for name_classifier, info_classifier in classifiers.items():\n",
    "                \n",
    "        func_classifier, hyper_classifier = info_classifier\n",
    "        hyper_keys, hyper_values = hyper_classifier.keys(), hyper_classifier.values()\n",
    "        \n",
    "        setups = [dict(zip(hyper_keys, v)) for v in itertools.product(*hyper_values)]\n",
    "        \n",
    "        for setup in setups:\n",
    "            try:\n",
    "                #**setup 'desenrrolla' el diccionario, de forma que da el nombre y valor del mismo\n",
    "                classifier = func_classifier(**setup)\n",
    "                classifier.fit(X_train, y_train)\n",
    "\n",
    "                y_pred = classifier.predict(X_test)\n",
    "\n",
    "                setup_string = \"\"\n",
    "                for i, j in zip(setup.keys(), setup.values()):\n",
    "                    setup_string += i[:3] + \":\" + str(j) + '; '\n",
    "                \n",
    "                \n",
    "                results_norm.append({\n",
    "                    'Classifier': name_classifier,\n",
    "                    'Setup': setup_string,\n",
    "                    'Fold Number': fold,\n",
    "                    'Accuracy': accuracy(y_test, y_pred),\n",
    "                    'Precision': precision(y_test, y_pred),\n",
    "                    'Recall': recall(y_test, y_pred),\n",
    "                    'False Positive Rate': FPR(y_test, y_pred),\n",
    "                    'Specificity': specificity(y_test, y_pred),\n",
    "                    'F1': F1(y_test, y_pred),\n",
    "                    'AUROC': AUROC(y_test, y_pred),\n",
    "                })\n",
    "            except:\n",
    "                pass\n",
    "                \n",
    "\n",
    "    print(\"Fold time:\", str(round(time.time() - start_fold_time, 2)))\n",
    "    \n",
    "end_time = time.time()\n",
    "\n",
    "print()\n",
    "print()\n",
    "\n",
    "print(\"It took \" + str(round(end_time - start_time, 2)) + \" seconds\")"
   ]
  },
  {
   "cell_type": "markdown",
   "metadata": {},
   "source": [
    "#### Evaluación\n",
    "\n",
    "Se vuelven a tener 46 modelos a evaluar, igual que en el caso anterior."
   ]
  },
  {
   "cell_type": "code",
   "execution_count": 55,
   "metadata": {},
   "outputs": [],
   "source": [
    "results_data_norm = pd.DataFrame(results_norm)\n",
    "\n",
    "results_table_norm = results_data_norm[header_results].groupby(['Classifier', 'Setup']).mean()"
   ]
  },
  {
   "cell_type": "markdown",
   "metadata": {},
   "source": [
    "A continuación se muestran los 10 mejores modelos, en la primera tabla según su ***'Accuracy'***, y en la segunda según su ***'Recall'***."
   ]
  },
  {
   "cell_type": "code",
   "execution_count": 56,
   "metadata": {},
   "outputs": [
    {
     "data": {
      "text/html": [
       "<div>\n",
       "<style scoped>\n",
       "    .dataframe tbody tr th:only-of-type {\n",
       "        vertical-align: middle;\n",
       "    }\n",
       "\n",
       "    .dataframe tbody tr th {\n",
       "        vertical-align: top;\n",
       "    }\n",
       "\n",
       "    .dataframe thead th {\n",
       "        text-align: right;\n",
       "    }\n",
       "</style>\n",
       "<table border=\"1\" class=\"dataframe\">\n",
       "  <thead>\n",
       "    <tr style=\"text-align: right;\">\n",
       "      <th></th>\n",
       "      <th></th>\n",
       "      <th>Accuracy</th>\n",
       "      <th>Precision</th>\n",
       "      <th>Recall</th>\n",
       "      <th>False Positive Rate</th>\n",
       "      <th>Specificity</th>\n",
       "      <th>F1</th>\n",
       "      <th>AUROC</th>\n",
       "    </tr>\n",
       "    <tr>\n",
       "      <th>Classifier</th>\n",
       "      <th>Setup</th>\n",
       "      <th></th>\n",
       "      <th></th>\n",
       "      <th></th>\n",
       "      <th></th>\n",
       "      <th></th>\n",
       "      <th></th>\n",
       "      <th></th>\n",
       "    </tr>\n",
       "  </thead>\n",
       "  <tbody>\n",
       "    <tr>\n",
       "      <th rowspan=\"4\" valign=\"top\">Decision Tree</th>\n",
       "      <th>cri:gini; spl:best; max:5;</th>\n",
       "      <td>73.164286</td>\n",
       "      <td>75.814456</td>\n",
       "      <td>67.983344</td>\n",
       "      <td>21.659819</td>\n",
       "      <td>78.340181</td>\n",
       "      <td>0.716832</td>\n",
       "      <td>73.161762</td>\n",
       "    </tr>\n",
       "    <tr>\n",
       "      <th>cri:entropy; spl:best; max:5;</th>\n",
       "      <td>73.114286</td>\n",
       "      <td>75.790637</td>\n",
       "      <td>67.876713</td>\n",
       "      <td>21.654808</td>\n",
       "      <td>78.345192</td>\n",
       "      <td>0.716132</td>\n",
       "      <td>73.110952</td>\n",
       "    </tr>\n",
       "    <tr>\n",
       "      <th>cri:entropy; spl:best; max:10;</th>\n",
       "      <td>72.780000</td>\n",
       "      <td>74.172250</td>\n",
       "      <td>69.926957</td>\n",
       "      <td>24.353018</td>\n",
       "      <td>75.646982</td>\n",
       "      <td>0.719601</td>\n",
       "      <td>72.786969</td>\n",
       "    </tr>\n",
       "    <tr>\n",
       "      <th>cri:gini; spl:best; max:10;</th>\n",
       "      <td>72.575714</td>\n",
       "      <td>74.241515</td>\n",
       "      <td>69.150081</td>\n",
       "      <td>23.977628</td>\n",
       "      <td>76.022372</td>\n",
       "      <td>0.715865</td>\n",
       "      <td>72.586226</td>\n",
       "    </tr>\n",
       "    <tr>\n",
       "      <th rowspan=\"2\" valign=\"top\">K-Nearest Neighbors</th>\n",
       "      <th>n_n:50; wei:distance;</th>\n",
       "      <td>71.154286</td>\n",
       "      <td>74.033704</td>\n",
       "      <td>65.128620</td>\n",
       "      <td>22.819217</td>\n",
       "      <td>77.180783</td>\n",
       "      <td>0.692897</td>\n",
       "      <td>71.154701</td>\n",
       "    </tr>\n",
       "    <tr>\n",
       "      <th>n_n:50; wei:uniform;</th>\n",
       "      <td>71.021429</td>\n",
       "      <td>74.781547</td>\n",
       "      <td>63.392184</td>\n",
       "      <td>21.352352</td>\n",
       "      <td>78.647648</td>\n",
       "      <td>0.686122</td>\n",
       "      <td>71.019916</td>\n",
       "    </tr>\n",
       "    <tr>\n",
       "      <th rowspan=\"4\" valign=\"top\">Logistic Regression</th>\n",
       "      <th>pen:none; C:0.5;</th>\n",
       "      <td>69.941429</td>\n",
       "      <td>71.489058</td>\n",
       "      <td>66.316737</td>\n",
       "      <td>26.420425</td>\n",
       "      <td>73.579575</td>\n",
       "      <td>0.687961</td>\n",
       "      <td>69.948156</td>\n",
       "    </tr>\n",
       "    <tr>\n",
       "      <th>pen:none; C:2.0;</th>\n",
       "      <td>69.941429</td>\n",
       "      <td>71.489058</td>\n",
       "      <td>66.316737</td>\n",
       "      <td>26.420425</td>\n",
       "      <td>73.579575</td>\n",
       "      <td>0.687961</td>\n",
       "      <td>69.948156</td>\n",
       "    </tr>\n",
       "    <tr>\n",
       "      <th>pen:none; C:1.0;</th>\n",
       "      <td>69.941429</td>\n",
       "      <td>71.489058</td>\n",
       "      <td>66.316737</td>\n",
       "      <td>26.420425</td>\n",
       "      <td>73.579575</td>\n",
       "      <td>0.687961</td>\n",
       "      <td>69.948156</td>\n",
       "    </tr>\n",
       "    <tr>\n",
       "      <th>pen:l2; C:0.5;</th>\n",
       "      <td>69.891429</td>\n",
       "      <td>71.410495</td>\n",
       "      <td>66.316211</td>\n",
       "      <td>26.523378</td>\n",
       "      <td>73.476622</td>\n",
       "      <td>0.687606</td>\n",
       "      <td>69.896417</td>\n",
       "    </tr>\n",
       "  </tbody>\n",
       "</table>\n",
       "</div>"
      ],
      "text/plain": [
       "                                                      Accuracy  Precision  \\\n",
       "Classifier          Setup                                                   \n",
       "Decision Tree       cri:gini; spl:best; max:5;       73.164286  75.814456   \n",
       "                    cri:entropy; spl:best; max:5;    73.114286  75.790637   \n",
       "                    cri:entropy; spl:best; max:10;   72.780000  74.172250   \n",
       "                    cri:gini; spl:best; max:10;      72.575714  74.241515   \n",
       "K-Nearest Neighbors n_n:50; wei:distance;            71.154286  74.033704   \n",
       "                    n_n:50; wei:uniform;             71.021429  74.781547   \n",
       "Logistic Regression pen:none; C:0.5;                 69.941429  71.489058   \n",
       "                    pen:none; C:2.0;                 69.941429  71.489058   \n",
       "                    pen:none; C:1.0;                 69.941429  71.489058   \n",
       "                    pen:l2; C:0.5;                   69.891429  71.410495   \n",
       "\n",
       "                                                        Recall  \\\n",
       "Classifier          Setup                                        \n",
       "Decision Tree       cri:gini; spl:best; max:5;       67.983344   \n",
       "                    cri:entropy; spl:best; max:5;    67.876713   \n",
       "                    cri:entropy; spl:best; max:10;   69.926957   \n",
       "                    cri:gini; spl:best; max:10;      69.150081   \n",
       "K-Nearest Neighbors n_n:50; wei:distance;            65.128620   \n",
       "                    n_n:50; wei:uniform;             63.392184   \n",
       "Logistic Regression pen:none; C:0.5;                 66.316737   \n",
       "                    pen:none; C:2.0;                 66.316737   \n",
       "                    pen:none; C:1.0;                 66.316737   \n",
       "                    pen:l2; C:0.5;                   66.316211   \n",
       "\n",
       "                                                     False Positive Rate  \\\n",
       "Classifier          Setup                                                  \n",
       "Decision Tree       cri:gini; spl:best; max:5;                 21.659819   \n",
       "                    cri:entropy; spl:best; max:5;              21.654808   \n",
       "                    cri:entropy; spl:best; max:10;             24.353018   \n",
       "                    cri:gini; spl:best; max:10;                23.977628   \n",
       "K-Nearest Neighbors n_n:50; wei:distance;                      22.819217   \n",
       "                    n_n:50; wei:uniform;                       21.352352   \n",
       "Logistic Regression pen:none; C:0.5;                           26.420425   \n",
       "                    pen:none; C:2.0;                           26.420425   \n",
       "                    pen:none; C:1.0;                           26.420425   \n",
       "                    pen:l2; C:0.5;                             26.523378   \n",
       "\n",
       "                                                     Specificity        F1  \\\n",
       "Classifier          Setup                                                    \n",
       "Decision Tree       cri:gini; spl:best; max:5;         78.340181  0.716832   \n",
       "                    cri:entropy; spl:best; max:5;      78.345192  0.716132   \n",
       "                    cri:entropy; spl:best; max:10;     75.646982  0.719601   \n",
       "                    cri:gini; spl:best; max:10;        76.022372  0.715865   \n",
       "K-Nearest Neighbors n_n:50; wei:distance;              77.180783  0.692897   \n",
       "                    n_n:50; wei:uniform;               78.647648  0.686122   \n",
       "Logistic Regression pen:none; C:0.5;                   73.579575  0.687961   \n",
       "                    pen:none; C:2.0;                   73.579575  0.687961   \n",
       "                    pen:none; C:1.0;                   73.579575  0.687961   \n",
       "                    pen:l2; C:0.5;                     73.476622  0.687606   \n",
       "\n",
       "                                                         AUROC  \n",
       "Classifier          Setup                                       \n",
       "Decision Tree       cri:gini; spl:best; max:5;       73.161762  \n",
       "                    cri:entropy; spl:best; max:5;    73.110952  \n",
       "                    cri:entropy; spl:best; max:10;   72.786969  \n",
       "                    cri:gini; spl:best; max:10;      72.586226  \n",
       "K-Nearest Neighbors n_n:50; wei:distance;            71.154701  \n",
       "                    n_n:50; wei:uniform;             71.019916  \n",
       "Logistic Regression pen:none; C:0.5;                 69.948156  \n",
       "                    pen:none; C:2.0;                 69.948156  \n",
       "                    pen:none; C:1.0;                 69.948156  \n",
       "                    pen:l2; C:0.5;                   69.896417  "
      ]
     },
     "execution_count": 56,
     "metadata": {},
     "output_type": "execute_result"
    }
   ],
   "source": [
    "results_table_norm.sort_values(\"Accuracy\", ascending=False)[:10]"
   ]
  },
  {
   "cell_type": "code",
   "execution_count": 57,
   "metadata": {},
   "outputs": [
    {
     "data": {
      "text/html": [
       "<div>\n",
       "<style scoped>\n",
       "    .dataframe tbody tr th:only-of-type {\n",
       "        vertical-align: middle;\n",
       "    }\n",
       "\n",
       "    .dataframe tbody tr th {\n",
       "        vertical-align: top;\n",
       "    }\n",
       "\n",
       "    .dataframe thead th {\n",
       "        text-align: right;\n",
       "    }\n",
       "</style>\n",
       "<table border=\"1\" class=\"dataframe\">\n",
       "  <thead>\n",
       "    <tr style=\"text-align: right;\">\n",
       "      <th></th>\n",
       "      <th></th>\n",
       "      <th>Accuracy</th>\n",
       "      <th>Precision</th>\n",
       "      <th>Recall</th>\n",
       "      <th>False Positive Rate</th>\n",
       "      <th>Specificity</th>\n",
       "      <th>F1</th>\n",
       "      <th>AUROC</th>\n",
       "    </tr>\n",
       "    <tr>\n",
       "      <th>Classifier</th>\n",
       "      <th>Setup</th>\n",
       "      <th></th>\n",
       "      <th></th>\n",
       "      <th></th>\n",
       "      <th></th>\n",
       "      <th></th>\n",
       "      <th></th>\n",
       "      <th></th>\n",
       "    </tr>\n",
       "  </thead>\n",
       "  <tbody>\n",
       "    <tr>\n",
       "      <th rowspan=\"3\" valign=\"top\">Multilayer Perceptron</th>\n",
       "      <th>lea:adaptive; hid:(64, 64);</th>\n",
       "      <td>55.231429</td>\n",
       "      <td>54.299570</td>\n",
       "      <td>94.477593</td>\n",
       "      <td>84.174100</td>\n",
       "      <td>15.825900</td>\n",
       "      <td>0.679553</td>\n",
       "      <td>55.151747</td>\n",
       "    </tr>\n",
       "    <tr>\n",
       "      <th>lea:invscaling; hid:();</th>\n",
       "      <td>64.550000</td>\n",
       "      <td>63.630736</td>\n",
       "      <td>80.388781</td>\n",
       "      <td>51.388794</td>\n",
       "      <td>48.611206</td>\n",
       "      <td>0.687682</td>\n",
       "      <td>64.499993</td>\n",
       "    </tr>\n",
       "    <tr>\n",
       "      <th>lea:adaptive; hid:(64,);</th>\n",
       "      <td>60.924286</td>\n",
       "      <td>64.755488</td>\n",
       "      <td>75.451930</td>\n",
       "      <td>53.583705</td>\n",
       "      <td>46.416295</td>\n",
       "      <td>0.649646</td>\n",
       "      <td>60.934112</td>\n",
       "    </tr>\n",
       "    <tr>\n",
       "      <th>Decision Tree</th>\n",
       "      <th>cri:entropy; spl:best; max:10;</th>\n",
       "      <td>72.780000</td>\n",
       "      <td>74.172250</td>\n",
       "      <td>69.926957</td>\n",
       "      <td>24.353018</td>\n",
       "      <td>75.646982</td>\n",
       "      <td>0.719601</td>\n",
       "      <td>72.786969</td>\n",
       "    </tr>\n",
       "    <tr>\n",
       "      <th>Multilayer Perceptron</th>\n",
       "      <th>lea:invscaling; hid:(64, 64);</th>\n",
       "      <td>58.910000</td>\n",
       "      <td>64.933339</td>\n",
       "      <td>69.305497</td>\n",
       "      <td>51.514218</td>\n",
       "      <td>48.485782</td>\n",
       "      <td>0.571057</td>\n",
       "      <td>58.895640</td>\n",
       "    </tr>\n",
       "    <tr>\n",
       "      <th rowspan=\"3\" valign=\"top\">Decision Tree</th>\n",
       "      <th>cri:gini; spl:best; max:10;</th>\n",
       "      <td>72.575714</td>\n",
       "      <td>74.241515</td>\n",
       "      <td>69.150081</td>\n",
       "      <td>23.977628</td>\n",
       "      <td>76.022372</td>\n",
       "      <td>0.715865</td>\n",
       "      <td>72.586226</td>\n",
       "    </tr>\n",
       "    <tr>\n",
       "      <th>cri:gini; spl:best; max:5;</th>\n",
       "      <td>73.164286</td>\n",
       "      <td>75.814456</td>\n",
       "      <td>67.983344</td>\n",
       "      <td>21.659819</td>\n",
       "      <td>78.340181</td>\n",
       "      <td>0.716832</td>\n",
       "      <td>73.161762</td>\n",
       "    </tr>\n",
       "    <tr>\n",
       "      <th>cri:entropy; spl:best; max:5;</th>\n",
       "      <td>73.114286</td>\n",
       "      <td>75.790637</td>\n",
       "      <td>67.876713</td>\n",
       "      <td>21.654808</td>\n",
       "      <td>78.345192</td>\n",
       "      <td>0.716132</td>\n",
       "      <td>73.110952</td>\n",
       "    </tr>\n",
       "    <tr>\n",
       "      <th rowspan=\"2\" valign=\"top\">K-Nearest Neighbors</th>\n",
       "      <th>n_n:10; wei:distance;</th>\n",
       "      <td>69.668571</td>\n",
       "      <td>70.755623</td>\n",
       "      <td>67.007306</td>\n",
       "      <td>27.664161</td>\n",
       "      <td>72.335839</td>\n",
       "      <td>0.688254</td>\n",
       "      <td>69.671573</td>\n",
       "    </tr>\n",
       "    <tr>\n",
       "      <th>n_n:5; wei:uniform;</th>\n",
       "      <td>68.170000</td>\n",
       "      <td>68.834873</td>\n",
       "      <td>66.358227</td>\n",
       "      <td>30.012916</td>\n",
       "      <td>69.987084</td>\n",
       "      <td>0.675683</td>\n",
       "      <td>68.172656</td>\n",
       "    </tr>\n",
       "  </tbody>\n",
       "</table>\n",
       "</div>"
      ],
      "text/plain": [
       "                                                        Accuracy  Precision  \\\n",
       "Classifier            Setup                                                   \n",
       "Multilayer Perceptron lea:adaptive; hid:(64, 64);      55.231429  54.299570   \n",
       "                      lea:invscaling; hid:();          64.550000  63.630736   \n",
       "                      lea:adaptive; hid:(64,);         60.924286  64.755488   \n",
       "Decision Tree         cri:entropy; spl:best; max:10;   72.780000  74.172250   \n",
       "Multilayer Perceptron lea:invscaling; hid:(64, 64);    58.910000  64.933339   \n",
       "Decision Tree         cri:gini; spl:best; max:10;      72.575714  74.241515   \n",
       "                      cri:gini; spl:best; max:5;       73.164286  75.814456   \n",
       "                      cri:entropy; spl:best; max:5;    73.114286  75.790637   \n",
       "K-Nearest Neighbors   n_n:10; wei:distance;            69.668571  70.755623   \n",
       "                      n_n:5; wei:uniform;              68.170000  68.834873   \n",
       "\n",
       "                                                          Recall  \\\n",
       "Classifier            Setup                                        \n",
       "Multilayer Perceptron lea:adaptive; hid:(64, 64);      94.477593   \n",
       "                      lea:invscaling; hid:();          80.388781   \n",
       "                      lea:adaptive; hid:(64,);         75.451930   \n",
       "Decision Tree         cri:entropy; spl:best; max:10;   69.926957   \n",
       "Multilayer Perceptron lea:invscaling; hid:(64, 64);    69.305497   \n",
       "Decision Tree         cri:gini; spl:best; max:10;      69.150081   \n",
       "                      cri:gini; spl:best; max:5;       67.983344   \n",
       "                      cri:entropy; spl:best; max:5;    67.876713   \n",
       "K-Nearest Neighbors   n_n:10; wei:distance;            67.007306   \n",
       "                      n_n:5; wei:uniform;              66.358227   \n",
       "\n",
       "                                                       False Positive Rate  \\\n",
       "Classifier            Setup                                                  \n",
       "Multilayer Perceptron lea:adaptive; hid:(64, 64);                84.174100   \n",
       "                      lea:invscaling; hid:();                    51.388794   \n",
       "                      lea:adaptive; hid:(64,);                   53.583705   \n",
       "Decision Tree         cri:entropy; spl:best; max:10;             24.353018   \n",
       "Multilayer Perceptron lea:invscaling; hid:(64, 64);              51.514218   \n",
       "Decision Tree         cri:gini; spl:best; max:10;                23.977628   \n",
       "                      cri:gini; spl:best; max:5;                 21.659819   \n",
       "                      cri:entropy; spl:best; max:5;              21.654808   \n",
       "K-Nearest Neighbors   n_n:10; wei:distance;                      27.664161   \n",
       "                      n_n:5; wei:uniform;                        30.012916   \n",
       "\n",
       "                                                       Specificity        F1  \\\n",
       "Classifier            Setup                                                    \n",
       "Multilayer Perceptron lea:adaptive; hid:(64, 64);        15.825900  0.679553   \n",
       "                      lea:invscaling; hid:();            48.611206  0.687682   \n",
       "                      lea:adaptive; hid:(64,);           46.416295  0.649646   \n",
       "Decision Tree         cri:entropy; spl:best; max:10;     75.646982  0.719601   \n",
       "Multilayer Perceptron lea:invscaling; hid:(64, 64);      48.485782  0.571057   \n",
       "Decision Tree         cri:gini; spl:best; max:10;        76.022372  0.715865   \n",
       "                      cri:gini; spl:best; max:5;         78.340181  0.716832   \n",
       "                      cri:entropy; spl:best; max:5;      78.345192  0.716132   \n",
       "K-Nearest Neighbors   n_n:10; wei:distance;              72.335839  0.688254   \n",
       "                      n_n:5; wei:uniform;                69.987084  0.675683   \n",
       "\n",
       "                                                           AUROC  \n",
       "Classifier            Setup                                       \n",
       "Multilayer Perceptron lea:adaptive; hid:(64, 64);      55.151747  \n",
       "                      lea:invscaling; hid:();          64.499993  \n",
       "                      lea:adaptive; hid:(64,);         60.934112  \n",
       "Decision Tree         cri:entropy; spl:best; max:10;   72.786969  \n",
       "Multilayer Perceptron lea:invscaling; hid:(64, 64);    58.895640  \n",
       "Decision Tree         cri:gini; spl:best; max:10;      72.586226  \n",
       "                      cri:gini; spl:best; max:5;       73.161762  \n",
       "                      cri:entropy; spl:best; max:5;    73.110952  \n",
       "K-Nearest Neighbors   n_n:10; wei:distance;            69.671573  \n",
       "                      n_n:5; wei:uniform;              68.172656  "
      ]
     },
     "execution_count": 57,
     "metadata": {},
     "output_type": "execute_result"
    }
   ],
   "source": [
    "results_table_norm.sort_values(\"Recall\", ascending=False)[:10]"
   ]
  },
  {
   "cell_type": "markdown",
   "metadata": {},
   "source": [
    "Igual que en el caso con datos sin normalizar, los *Árboles de Decisión* son los que mejores resultados obtienen para la tasa de aciertos, y el *Perceptrón Multicapa* para la sensibilidad.\n",
    "\n",
    "Se esperaba que al normalizar los datos, los modelos basados en redes de neuronas, ya que trabajan con el peso de cada atributo, tuvieran un comportamiento notáblemente mejor, pero no ha sido el caso. Ha aumentado la sensibilidad, pero no la tase de aciertos."
   ]
  },
  {
   "cell_type": "markdown",
   "metadata": {},
   "source": [
    "El mejor modelo sigue siendo el mismo que con los datos sin normalizar, con unos resultados casi idénticos. Por tanto, el modelo que se eligiría como candidato es ese."
   ]
  },
  {
   "cell_type": "markdown",
   "metadata": {},
   "source": [
    "### Profundización en el mejor modelo\n",
    "\n",
    "Para visualizar el modelo con mayor claridad, se va a entrenar sobre las primeras **60000** instancias, y evaluar con las **10000** restantes."
   ]
  },
  {
   "cell_type": "code",
   "execution_count": 58,
   "metadata": {},
   "outputs": [],
   "source": [
    "X_train, X_test = X.values[:60000], X.values[-10000:]\n",
    "y_train, y_test = y.values[:60000], y.values[-10000:]"
   ]
  },
  {
   "cell_type": "code",
   "execution_count": 59,
   "metadata": {},
   "outputs": [],
   "source": [
    "dtc = DecisionTreeClassifier(criterion='entropy', splitter='best', max_depth=10)"
   ]
  },
  {
   "cell_type": "code",
   "execution_count": 60,
   "metadata": {},
   "outputs": [],
   "source": [
    "dtc.fit(X_train, y_train)\n",
    "y_pred = dtc.predict(X_test)"
   ]
  },
  {
   "cell_type": "code",
   "execution_count": 61,
   "metadata": {
    "scrolled": true
   },
   "outputs": [
    {
     "data": {
      "text/html": [
       "<div>\n",
       "<style scoped>\n",
       "    .dataframe tbody tr th:only-of-type {\n",
       "        vertical-align: middle;\n",
       "    }\n",
       "\n",
       "    .dataframe tbody tr th {\n",
       "        vertical-align: top;\n",
       "    }\n",
       "\n",
       "    .dataframe thead th {\n",
       "        text-align: right;\n",
       "    }\n",
       "</style>\n",
       "<table border=\"1\" class=\"dataframe\">\n",
       "  <thead>\n",
       "    <tr style=\"text-align: right;\">\n",
       "      <th></th>\n",
       "      <th>Real Enfermedad</th>\n",
       "      <th>Real No Enfermedad</th>\n",
       "    </tr>\n",
       "  </thead>\n",
       "  <tbody>\n",
       "    <tr>\n",
       "      <th>Predicho Enfermedad</th>\n",
       "      <td>3432</td>\n",
       "      <td>1127</td>\n",
       "    </tr>\n",
       "    <tr>\n",
       "      <th>Predicho No Enfermedad</th>\n",
       "      <td>1603</td>\n",
       "      <td>3838</td>\n",
       "    </tr>\n",
       "  </tbody>\n",
       "</table>\n",
       "</div>"
      ],
      "text/plain": [
       "                        Real Enfermedad  Real No Enfermedad\n",
       "Predicho Enfermedad                3432                1127\n",
       "Predicho No Enfermedad             1603                3838"
      ]
     },
     "metadata": {},
     "output_type": "display_data"
    }
   ],
   "source": [
    "matrix = confusionMatrix(y_test, y_pred)\n",
    "display(matrix)"
   ]
  },
  {
   "cell_type": "code",
   "execution_count": 62,
   "metadata": {},
   "outputs": [
    {
     "data": {
      "image/png": "[encoded data removed]",
      "text/plain": [
       "<Figure size 432x288 with 1 Axes>"
      ]
     },
     "metadata": {
      "needs_background": "light"
     },
     "output_type": "display_data"
    }
   ],
   "source": [
    "plot_roc_curve(dtc, X_test, y_test)\n",
    "plt.plot([0, 1], [0, 1], 'k--')\n",
    "plt.show()"
   ]
  },
  {
   "cell_type": "code",
   "execution_count": 63,
   "metadata": {},
   "outputs": [
    {
     "name": "stdout",
     "output_type": "stream",
     "text": [
      "Se clasifican correctamente un 72.7% de las instancias\n",
      "Se clasifican correctamente un 75.27966659355123% de las instancias positivas\n",
      "El modelo acierta un 68.16285998013902% de las instancias positivas\n",
      "El modelo falla un 22.69889224572004% de las instancias negativas\n",
      "El modelo acierta un 77.30110775427997% de las instancias negativas\n",
      "La puntuación F1 del modelo es: 0.7154471544715447\n",
      "El área bajo la curva del modelo es el: 72.7319838672095%\n"
     ]
    }
   ],
   "source": [
    "ev = evaluation(y_test, y_pred)"
   ]
  },
  {
   "cell_type": "markdown",
   "metadata": {},
   "source": [
    "Como conclusión, el mejor modelo generado no es suficientemente bueno como para generar resultados fiables, pero es un indicador que puede servir de apoyo a la hora de determinar si un paciente sufre o no una enfermedad cardivascular."
   ]
  },
  {
   "cell_type": "markdown",
   "metadata": {},
   "source": [
    "## Tarea Extra\n",
    "\n",
    "En esta tarea se pide realizar un análisis en mayor profundidad con el fin de contestar las preguntas de la tarea 2 sin necesidad de explorar el árbol manualmente, usando análisis estadístico de los mismos.\n",
    "\n",
    "Lo primero que se va a hacer es un **resumen estadístico** de las variables."
   ]
  },
  {
   "cell_type": "code",
   "execution_count": 64,
   "metadata": {
    "scrolled": true
   },
   "outputs": [
    {
     "data": {
      "text/html": [
       "<div>\n",
       "<style scoped>\n",
       "    .dataframe tbody tr th:only-of-type {\n",
       "        vertical-align: middle;\n",
       "    }\n",
       "\n",
       "    .dataframe tbody tr th {\n",
       "        vertical-align: top;\n",
       "    }\n",
       "\n",
       "    .dataframe thead th {\n",
       "        text-align: right;\n",
       "    }\n",
       "</style>\n",
       "<table border=\"1\" class=\"dataframe\">\n",
       "  <thead>\n",
       "    <tr style=\"text-align: right;\">\n",
       "      <th></th>\n",
       "      <th>age</th>\n",
       "      <th>gender</th>\n",
       "      <th>height</th>\n",
       "      <th>weight</th>\n",
       "      <th>ap_hi</th>\n",
       "      <th>ap_lo</th>\n",
       "      <th>cholesterol</th>\n",
       "      <th>gluc</th>\n",
       "      <th>smoke</th>\n",
       "      <th>alco</th>\n",
       "      <th>active</th>\n",
       "      <th>cardio</th>\n",
       "    </tr>\n",
       "  </thead>\n",
       "  <tbody>\n",
       "    <tr>\n",
       "      <th>count</th>\n",
       "      <td>70000.000000</td>\n",
       "      <td>70000.000000</td>\n",
       "      <td>70000.000000</td>\n",
       "      <td>70000.000000</td>\n",
       "      <td>70000.000000</td>\n",
       "      <td>70000.000000</td>\n",
       "      <td>70000.000000</td>\n",
       "      <td>70000.000000</td>\n",
       "      <td>70000.000000</td>\n",
       "      <td>70000.000000</td>\n",
       "      <td>70000.000000</td>\n",
       "      <td>70000.000000</td>\n",
       "    </tr>\n",
       "    <tr>\n",
       "      <th>mean</th>\n",
       "      <td>19468.865814</td>\n",
       "      <td>1.349571</td>\n",
       "      <td>164.359229</td>\n",
       "      <td>74.205690</td>\n",
       "      <td>128.817286</td>\n",
       "      <td>96.630414</td>\n",
       "      <td>1.366871</td>\n",
       "      <td>1.226457</td>\n",
       "      <td>0.088129</td>\n",
       "      <td>0.053771</td>\n",
       "      <td>0.803729</td>\n",
       "      <td>0.499700</td>\n",
       "    </tr>\n",
       "    <tr>\n",
       "      <th>std</th>\n",
       "      <td>2467.251667</td>\n",
       "      <td>0.476838</td>\n",
       "      <td>8.210126</td>\n",
       "      <td>14.395757</td>\n",
       "      <td>154.011419</td>\n",
       "      <td>188.472530</td>\n",
       "      <td>0.680250</td>\n",
       "      <td>0.572270</td>\n",
       "      <td>0.283484</td>\n",
       "      <td>0.225568</td>\n",
       "      <td>0.397179</td>\n",
       "      <td>0.500003</td>\n",
       "    </tr>\n",
       "    <tr>\n",
       "      <th>min</th>\n",
       "      <td>10798.000000</td>\n",
       "      <td>1.000000</td>\n",
       "      <td>55.000000</td>\n",
       "      <td>10.000000</td>\n",
       "      <td>-150.000000</td>\n",
       "      <td>-70.000000</td>\n",
       "      <td>1.000000</td>\n",
       "      <td>1.000000</td>\n",
       "      <td>0.000000</td>\n",
       "      <td>0.000000</td>\n",
       "      <td>0.000000</td>\n",
       "      <td>0.000000</td>\n",
       "    </tr>\n",
       "    <tr>\n",
       "      <th>25%</th>\n",
       "      <td>17664.000000</td>\n",
       "      <td>1.000000</td>\n",
       "      <td>159.000000</td>\n",
       "      <td>65.000000</td>\n",
       "      <td>120.000000</td>\n",
       "      <td>80.000000</td>\n",
       "      <td>1.000000</td>\n",
       "      <td>1.000000</td>\n",
       "      <td>0.000000</td>\n",
       "      <td>0.000000</td>\n",
       "      <td>1.000000</td>\n",
       "      <td>0.000000</td>\n",
       "    </tr>\n",
       "    <tr>\n",
       "      <th>50%</th>\n",
       "      <td>19703.000000</td>\n",
       "      <td>1.000000</td>\n",
       "      <td>165.000000</td>\n",
       "      <td>72.000000</td>\n",
       "      <td>120.000000</td>\n",
       "      <td>80.000000</td>\n",
       "      <td>1.000000</td>\n",
       "      <td>1.000000</td>\n",
       "      <td>0.000000</td>\n",
       "      <td>0.000000</td>\n",
       "      <td>1.000000</td>\n",
       "      <td>0.000000</td>\n",
       "    </tr>\n",
       "    <tr>\n",
       "      <th>75%</th>\n",
       "      <td>21327.000000</td>\n",
       "      <td>2.000000</td>\n",
       "      <td>170.000000</td>\n",
       "      <td>82.000000</td>\n",
       "      <td>140.000000</td>\n",
       "      <td>90.000000</td>\n",
       "      <td>2.000000</td>\n",
       "      <td>1.000000</td>\n",
       "      <td>0.000000</td>\n",
       "      <td>0.000000</td>\n",
       "      <td>1.000000</td>\n",
       "      <td>1.000000</td>\n",
       "    </tr>\n",
       "    <tr>\n",
       "      <th>max</th>\n",
       "      <td>23713.000000</td>\n",
       "      <td>2.000000</td>\n",
       "      <td>250.000000</td>\n",
       "      <td>200.000000</td>\n",
       "      <td>16020.000000</td>\n",
       "      <td>11000.000000</td>\n",
       "      <td>3.000000</td>\n",
       "      <td>3.000000</td>\n",
       "      <td>1.000000</td>\n",
       "      <td>1.000000</td>\n",
       "      <td>1.000000</td>\n",
       "      <td>1.000000</td>\n",
       "    </tr>\n",
       "  </tbody>\n",
       "</table>\n",
       "</div>"
      ],
      "text/plain": [
       "                age        gender        height        weight         ap_hi  \\\n",
       "count  70000.000000  70000.000000  70000.000000  70000.000000  70000.000000   \n",
       "mean   19468.865814      1.349571    164.359229     74.205690    128.817286   \n",
       "std     2467.251667      0.476838      8.210126     14.395757    154.011419   \n",
       "min    10798.000000      1.000000     55.000000     10.000000   -150.000000   \n",
       "25%    17664.000000      1.000000    159.000000     65.000000    120.000000   \n",
       "50%    19703.000000      1.000000    165.000000     72.000000    120.000000   \n",
       "75%    21327.000000      2.000000    170.000000     82.000000    140.000000   \n",
       "max    23713.000000      2.000000    250.000000    200.000000  16020.000000   \n",
       "\n",
       "              ap_lo   cholesterol          gluc         smoke          alco  \\\n",
       "count  70000.000000  70000.000000  70000.000000  70000.000000  70000.000000   \n",
       "mean      96.630414      1.366871      1.226457      0.088129      0.053771   \n",
       "std      188.472530      0.680250      0.572270      0.283484      0.225568   \n",
       "min      -70.000000      1.000000      1.000000      0.000000      0.000000   \n",
       "25%       80.000000      1.000000      1.000000      0.000000      0.000000   \n",
       "50%       80.000000      1.000000      1.000000      0.000000      0.000000   \n",
       "75%       90.000000      2.000000      1.000000      0.000000      0.000000   \n",
       "max    11000.000000      3.000000      3.000000      1.000000      1.000000   \n",
       "\n",
       "             active        cardio  \n",
       "count  70000.000000  70000.000000  \n",
       "mean       0.803729      0.499700  \n",
       "std        0.397179      0.500003  \n",
       "min        0.000000      0.000000  \n",
       "25%        1.000000      0.000000  \n",
       "50%        1.000000      0.000000  \n",
       "75%        1.000000      1.000000  \n",
       "max        1.000000      1.000000  "
      ]
     },
     "metadata": {},
     "output_type": "display_data"
    }
   ],
   "source": [
    "display(data[header[1:]].describe())"
   ]
  },
  {
   "cell_type": "markdown",
   "metadata": {},
   "source": [
    "Con el resumen generado se puede ver de forma general el aspecto de los datos: como la media de los valores, el mínimo o el máximo, etc. Analizádolos se pueden detectar errores en los valores o la existencia de valores anómalos.\n",
    "\n",
    "En el caso de *ap_hi* y *ap_lo* se puede observar que la diferencia entre los mínimos con los cuartiles y con los máximos es muy grande. Esto se puede deber a la existencia de valores anómalos."
   ]
  },
  {
   "cell_type": "markdown",
   "metadata": {},
   "source": [
    "Ya que la información estadística obtenida sólo sirve como primer acercamiento para conocer la forma de los datos, se van a realizar los **histogramas** de cada variable."
   ]
  },
  {
   "cell_type": "code",
   "execution_count": 65,
   "metadata": {},
   "outputs": [],
   "source": [
    "import matplotlib.pyplot as plt"
   ]
  },
  {
   "cell_type": "code",
   "execution_count": 66,
   "metadata": {
    "scrolled": false
   },
   "outputs": [
    {
     "data": {
      "image/png": "[encoded data removed]",
      "text/plain": [
       "<Figure size 1080x1440 with 12 Axes>"
      ]
     },
     "metadata": {
      "needs_background": "light"
     },
     "output_type": "display_data"
    }
   ],
   "source": [
    "plt.figure(figsize=(15,20))\n",
    "plt.subplots_adjust(hspace=0.5)\n",
    "for i in range(12):\n",
    "    plt.subplot(6,2,i+1)\n",
    "    plt.title(header[i+1])\n",
    "    plt.hist(data[header[i+1]], color='b')\n",
    "plt.show()"
   ]
  },
  {
   "cell_type": "markdown",
   "metadata": {},
   "source": [
    "Gracias a los *histogramas* se puede ver la distribución de cada variable por separado, con esto se tiene una idea de la estructura de los datos.\n",
    "\n",
    "Por ejemplo, se puede ver con la variable *age* que la mayoría de la población se encuentra en el rango de 35 a 65 años y parece que sigue una distribución parecida a la normal.\n",
    "\n",
    "Por otro lado, tal y como se ha mencionado anteriormente, se puede ver la existencia de datos anómalos en función de las variables *ap_hi* y *ap_lo*, ya que casi la totalidad de la población se encuentra en una única barra."
   ]
  },
  {
   "cell_type": "markdown",
   "metadata": {},
   "source": [
    "A pesar de haber obtenido esta información, no resulta de demasiada utilidad para el estudio, por lo que es necesario analizar la **correlación** que tienen respecto a la variable a predecir (*cardio*).\n",
    "\n",
    "En este caso realizar gráficas de correlación no tiene demasiada relevancia dado que el atributo *cardio* es binario y por tanto las gráficas sólo muestran valores entre 0 y 1 y no se puede intuir la correlación. Por lo que se va a usar exclusivamente mapa de calor usando el **coeficiente de correlación de Pearson**."
   ]
  },
  {
   "cell_type": "code",
   "execution_count": 67,
   "metadata": {},
   "outputs": [],
   "source": [
    "from scipy import stats\n",
    "import numpy as np\n",
    "import seaborn as sns"
   ]
  },
  {
   "cell_type": "code",
   "execution_count": 68,
   "metadata": {},
   "outputs": [
    {
     "data": {
      "image/png": "[encoded data removed]",
      "text/plain": [
       "<Figure size 432x288 with 2 Axes>"
      ]
     },
     "metadata": {
      "needs_background": "light"
     },
     "output_type": "display_data"
    }
   ],
   "source": [
    "corr = data[header[1:]].corr()\n",
    "ax = sns.heatmap(\n",
    "    corr, \n",
    "    vmin=-1, vmax=1, center=0,\n",
    "    cmap=sns.diverging_palette(15, 15, n=200),\n",
    "    square=True\n",
    ")"
   ]
  },
  {
   "cell_type": "markdown",
   "metadata": {},
   "source": [
    "De la gráfica anterior, sólo interesa la última fila o columna, ya que es la que compara la variable *cardio* con el resto."
   ]
  },
  {
   "cell_type": "code",
   "execution_count": 69,
   "metadata": {
    "scrolled": true
   },
   "outputs": [
    {
     "name": "stdout",
     "output_type": "stream",
     "text": [
      "Coeficiente de correlación de Pearson de la variable a estudiar con el resto:\n",
      "\t- age: 0.23815922744232323\n",
      "\t- gender: 0.00810949191312318\n",
      "\t- height: -0.010821058331006024\n",
      "\t- weight: 0.1816595617986211\n",
      "\t- ap_hi: 0.05447505392688467\n",
      "\t- ap_lo: 0.06571869614919743\n",
      "\t- cholesterol: 0.22114727391225064\n",
      "\t- gluc: 0.08930688732435299\n",
      "\t- smoke: -0.015485935661373308\n",
      "\t- alco: -0.007330231723206605\n",
      "\t- active: -0.03565324811518794\n"
     ]
    }
   ],
   "source": [
    "print(\"Coeficiente de correlación de Pearson de la variable a estudiar con el resto:\")\n",
    "\n",
    "for name in header[1:-1]:\n",
    "    coef = data[name].corr(data[header[-1]])\n",
    "    print(\"\\t- \" + name + \": \" + str(coef)) "
   ]
  },
  {
   "cell_type": "markdown",
   "metadata": {},
   "source": [
    "A partir de estos resultados se puede concluir que las variables que tienen mayor relación con *cardio*  son:\n",
    "\n",
    "  * ***age***\n",
    "  * *cholesterol*\n",
    "  * *weight*\n",
    "  \n",
    "El resto tienen un valor por debajo de **0.1**."
   ]
  },
  {
   "cell_type": "markdown",
   "metadata": {},
   "source": [
    "### ¿Qué relevancia tienen los exámenes clínicos realizados a la hora de determinar la existencia de una enfermedad cardiovascular?\n",
    "\n",
    "Las variables que forman parte de los exámenes clínicos son:\n",
    "\n",
    " * *ap_hi*\n",
    " * *ap_lo*\n",
    " * *cholesterol*\n",
    " * *gluc*\n",
    " \n",
    "Como se puede apreciar en la lista del **coeficiente de Pearson**, las variables del examen clínico aportan cierta importancia, pero no son las más determinantes. Siendo la mejor dentro de ellas *cholesterol*, que además es la segunda más relevante del conjunto de atributos, seguida por *gluc*, después *ap_lo* y por último *ap_hi*."
   ]
  },
  {
   "cell_type": "markdown",
   "metadata": {},
   "source": [
    "### ¿Es relevante la información (subjetiva) proporcionada por los pacientes a la hora de determinar la presencia de una enfermedad cardiovascular?\n",
    "\n",
    "Los valores subjetivos son:\n",
    "\n",
    " * *smoke*\n",
    " * *alco*\n",
    " * *active*\n",
    "\n",
    "Los atributos subjetivos no parecen tener una relevancia significativa. De todo el conjunto de atributos, el que peor correlación presenta es *alco*. Los otros dos atributos presentan una correlación ligeramente mejor, siendo el mejor de los tres *active*, pero ninguno se podría considerar decisivo a la hora de determinar si un paciente padece enfermedades cardiacas."
   ]
  }
 ],
 "metadata": {
  "kernelspec": {
   "display_name": "Python 3",
   "language": "python",
   "name": "python3"
  },
  "language_info": {
   "codemirror_mode": {
    "name": "ipython",
    "version": 3
   },
   "file_extension": ".py",
   "mimetype": "text/x-python",
   "name": "python",
   "nbconvert_exporter": "python",
   "pygments_lexer": "ipython3",
   "version": "3.8.5"
  }
 },
 "nbformat": 4,
 "nbformat_minor": 4
}
