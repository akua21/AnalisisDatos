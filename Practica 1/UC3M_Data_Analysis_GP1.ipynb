{
 "cells": [
  {
   "cell_type": "markdown",
   "metadata": {
    "colab_type": "text",
    "id": "_Tp4RyL3dLUt"
   },
   "source": [
    "# **Análisis de Datos – Práctica Guiada #1**\n",
    "\n",
    "**Grado en Ingeniería Informática · Universidad Carlos III de Madrid**\n",
    "\n"
   ]
  },
  {
   "cell_type": "code",
   "execution_count": 1,
   "metadata": {
    "colab": {},
    "colab_type": "code",
    "id": "xbkNqGx02Coj"
   },
   "outputs": [],
   "source": [
    "# Por favor, incluid aquí los nombres de los miembros del grupo\n",
    "# \n",
    "# Alba Reinders Sánchez, 100383444, grupo 83\n",
    "# Alejandro Valverde Mahou, 100383383, grupo 83"
   ]
  },
  {
   "cell_type": "markdown",
   "metadata": {
    "colab_type": "text",
    "id": "QABN9NcJeqqn"
   },
   "source": [
    "## Introducción\n",
    "\n",
    "*«Cada año, los alumnos son peores»*\n",
    "\n",
    "Esta es una frase que en alguna ocasión podríamos haber escuchado en boca de algún profesor frustrado. Sin embargo, en esta asignatura vamos a evitar las falacias de autoridad e intentar verificar este hecho directamente, empleando los datos de los que disponemos.\n",
    "\n",
    "En esta primera práctica guiada, vamos a realizar un análisis estadístico básico a partir de unos datos de los que disponemos, consistentes en calificaciones de una misma asignatura en los años 1996 y 1997."
   ]
  },
  {
   "cell_type": "markdown",
   "metadata": {
    "colab_type": "text",
    "id": "t750mfekgOOE"
   },
   "source": [
    "## Carga de los datos\n",
    "\n",
    "El primer paso antes de proceder consiste en cargar los datos, que están almacenados en el fichero `notas_96_97.csv`.\n",
    "\n",
    "Para ello, vamos a emplear la librería **Pandas**, y en particular, nos será útil la función [`read_csv`](https://pandas.pydata.org/pandas-docs/stable/reference/api/pandas.read_csv.html).\n",
    "\n",
    "**Nota 1:** Recuerda subir el archivo CSV a Google Colab para poder cargarlo.\n",
    "\n",
    "**Nota 2:** ¿Los datos están cargados de forma adecuada? Si sospechas que no es así, tal vez sea bueno prestar atención al separador de columnas empleado en el fichero CSV.\n",
    "\n",
    "\n"
   ]
  },
  {
   "cell_type": "code",
   "execution_count": 2,
   "metadata": {
    "colab": {},
    "colab_type": "code",
    "id": "I70siFL4gucm"
   },
   "outputs": [],
   "source": [
    "import pandas as pd\n",
    "\n",
    "### CÓDIGO A COMPLETAR (1 LÍNEA)\n",
    "notas = pd.read_csv(\"notas_96_97.csv\", sep=\";\")\n",
    "###"
   ]
  },
  {
   "cell_type": "markdown",
   "metadata": {
    "colab_type": "text",
    "id": "8X_r9lQri3sp"
   },
   "source": [
    "Si los datos están bien cargados, a continuación podremos ver una previsualización de los mismos."
   ]
  },
  {
   "cell_type": "code",
   "execution_count": 3,
   "metadata": {
    "colab": {},
    "colab_type": "code",
    "id": "eMDwQK3kdJbk"
   },
   "outputs": [
    {
     "data": {
      "text/html": [
       "<div>\n",
       "<style scoped>\n",
       "    .dataframe tbody tr th:only-of-type {\n",
       "        vertical-align: middle;\n",
       "    }\n",
       "\n",
       "    .dataframe tbody tr th {\n",
       "        vertical-align: top;\n",
       "    }\n",
       "\n",
       "    .dataframe thead th {\n",
       "        text-align: right;\n",
       "    }\n",
       "</style>\n",
       "<table border=\"1\" class=\"dataframe\">\n",
       "  <thead>\n",
       "    <tr style=\"text-align: right;\">\n",
       "      <th></th>\n",
       "      <th>Year</th>\n",
       "      <th>Grade</th>\n",
       "    </tr>\n",
       "  </thead>\n",
       "  <tbody>\n",
       "    <tr>\n",
       "      <th>0</th>\n",
       "      <td>1996</td>\n",
       "      <td>4.6</td>\n",
       "    </tr>\n",
       "    <tr>\n",
       "      <th>1</th>\n",
       "      <td>1996</td>\n",
       "      <td>8.1</td>\n",
       "    </tr>\n",
       "    <tr>\n",
       "      <th>2</th>\n",
       "      <td>1996</td>\n",
       "      <td>4.5</td>\n",
       "    </tr>\n",
       "    <tr>\n",
       "      <th>3</th>\n",
       "      <td>1996</td>\n",
       "      <td>3.7</td>\n",
       "    </tr>\n",
       "    <tr>\n",
       "      <th>4</th>\n",
       "      <td>1996</td>\n",
       "      <td>4.8</td>\n",
       "    </tr>\n",
       "    <tr>\n",
       "      <th>...</th>\n",
       "      <td>...</td>\n",
       "      <td>...</td>\n",
       "    </tr>\n",
       "    <tr>\n",
       "      <th>195</th>\n",
       "      <td>1997</td>\n",
       "      <td>4.7</td>\n",
       "    </tr>\n",
       "    <tr>\n",
       "      <th>196</th>\n",
       "      <td>1997</td>\n",
       "      <td>9.4</td>\n",
       "    </tr>\n",
       "    <tr>\n",
       "      <th>197</th>\n",
       "      <td>1997</td>\n",
       "      <td>7.7</td>\n",
       "    </tr>\n",
       "    <tr>\n",
       "      <th>198</th>\n",
       "      <td>1997</td>\n",
       "      <td>10.0</td>\n",
       "    </tr>\n",
       "    <tr>\n",
       "      <th>199</th>\n",
       "      <td>1997</td>\n",
       "      <td>9.0</td>\n",
       "    </tr>\n",
       "  </tbody>\n",
       "</table>\n",
       "<p>200 rows × 2 columns</p>\n",
       "</div>"
      ],
      "text/plain": [
       "     Year  Grade\n",
       "0    1996    4.6\n",
       "1    1996    8.1\n",
       "2    1996    4.5\n",
       "3    1996    3.7\n",
       "4    1996    4.8\n",
       "..    ...    ...\n",
       "195  1997    4.7\n",
       "196  1997    9.4\n",
       "197  1997    7.7\n",
       "198  1997   10.0\n",
       "199  1997    9.0\n",
       "\n",
       "[200 rows x 2 columns]"
      ]
     },
     "execution_count": 3,
     "metadata": {},
     "output_type": "execute_result"
    }
   ],
   "source": [
    "notas"
   ]
  },
  {
   "cell_type": "markdown",
   "metadata": {
    "colab_type": "text",
    "id": "mWOxm6xki2yO"
   },
   "source": [
    "## Organización de datos\n",
    "\n",
    "A la hora de trabajar con estos datos, tenemos fundamentalmente dos opciones:\n",
    "\n",
    "1.   Considerar que disponemos de una serie de datos con dos variables.\n",
    "2.   Considerar que disponemos de dos series de datos independientes (una por cada año).\n",
    "\n",
    "Tomar una decisión ante esta disyuntiva puede resultar complicado. La opción (1) podría ser interesante, por ejemplo, si quisiéramos realizar una regresión de las notas con respecto al año. Sin embargo, dado que solo contamos con dos años distintos y la pregunta que nos planteábamos al principio consiste en tratar de dilucidar si los últimos son mejores que los primeros, parece más razonable optar por la alternativa (2).\n",
    "\n",
    "En la clase práctica empleamos Excel para dividir los datos por columnas. Sin embargo, en esta ocasión no será necesario. \n",
    "\n",
    "El motivo es que Pandas dispone de la función [`groupby`](https://pandas.pydata.org/pandas-docs/stable/reference/api/pandas.DataFrame.groupby.html), que nos permite agrupar datos en base a una determinada variable. El funcionamiento recuerda en cierto modo a la cláusula `GROUP BY` que podemos encontrar en SQL. \n",
    "\n",
    "A continuación, agruparemos los datos por año. Al hacerlo, el resto de operaciones que realicemos con este *dataframe* contará con esta agrupación."
   ]
  },
  {
   "cell_type": "code",
   "execution_count": 4,
   "metadata": {
    "colab": {},
    "colab_type": "code",
    "id": "mvHhLqVHlQyG"
   },
   "outputs": [],
   "source": [
    "### CÓDIGO A COMPLETAR (1 LÍNEA)\n",
    "notas_by_year = notas.groupby([\"Year\"])\n",
    "###"
   ]
  },
  {
   "cell_type": "markdown",
   "metadata": {
    "colab_type": "text",
    "id": "zi0RE9WulwS8"
   },
   "source": [
    "## Resumen estadístico\n",
    "\n",
    "Una buena forma de comenzar a estudiar nuestros datos es dejar que ellos mismos nos hablen. Como los datos son bastante extensos (tenemos en total 200 muestras, cien para cada año), nos limitaremos a observar un resumen de los mismos.\n",
    "\n",
    "Este resumen estadístico nos permitirá en general *orientarnos* sobre cómo están estructurados los datos, aunque no nos darán por lo general toda la información que necesitamos saber. No obstante, constituye un buen punto de partida.\n",
    "\n",
    "Pandas nos permite realizar un resumen estadístico de forma sencilla: basta con emplear la función [`describe`](https://pandas.pydata.org/pandas-docs/stable/reference/api/pandas.DataFrame.describe.html).\n",
    "\n",
    "A continuación, deberemos escribir el código necesario para realizar el cálculo de estos estadísticos."
   ]
  },
  {
   "cell_type": "code",
   "execution_count": 5,
   "metadata": {
    "colab": {},
    "colab_type": "code",
    "id": "OpbSx8Zylbbv"
   },
   "outputs": [
    {
     "data": {
      "text/html": [
       "<div>\n",
       "<style scoped>\n",
       "    .dataframe tbody tr th:only-of-type {\n",
       "        vertical-align: middle;\n",
       "    }\n",
       "\n",
       "    .dataframe tbody tr th {\n",
       "        vertical-align: top;\n",
       "    }\n",
       "\n",
       "    .dataframe thead tr th {\n",
       "        text-align: left;\n",
       "    }\n",
       "\n",
       "    .dataframe thead tr:last-of-type th {\n",
       "        text-align: right;\n",
       "    }\n",
       "</style>\n",
       "<table border=\"1\" class=\"dataframe\">\n",
       "  <thead>\n",
       "    <tr>\n",
       "      <th></th>\n",
       "      <th colspan=\"8\" halign=\"left\">Grade</th>\n",
       "    </tr>\n",
       "    <tr>\n",
       "      <th></th>\n",
       "      <th>count</th>\n",
       "      <th>mean</th>\n",
       "      <th>std</th>\n",
       "      <th>min</th>\n",
       "      <th>25%</th>\n",
       "      <th>50%</th>\n",
       "      <th>75%</th>\n",
       "      <th>max</th>\n",
       "    </tr>\n",
       "    <tr>\n",
       "      <th>Year</th>\n",
       "      <th></th>\n",
       "      <th></th>\n",
       "      <th></th>\n",
       "      <th></th>\n",
       "      <th></th>\n",
       "      <th></th>\n",
       "      <th></th>\n",
       "      <th></th>\n",
       "    </tr>\n",
       "  </thead>\n",
       "  <tbody>\n",
       "    <tr>\n",
       "      <th>1996</th>\n",
       "      <td>100.0</td>\n",
       "      <td>5.336</td>\n",
       "      <td>1.972053</td>\n",
       "      <td>0.4</td>\n",
       "      <td>3.800</td>\n",
       "      <td>5.30</td>\n",
       "      <td>6.925</td>\n",
       "      <td>10.0</td>\n",
       "    </tr>\n",
       "    <tr>\n",
       "      <th>1997</th>\n",
       "      <td>100.0</td>\n",
       "      <td>6.831</td>\n",
       "      <td>1.860417</td>\n",
       "      <td>1.8</td>\n",
       "      <td>5.475</td>\n",
       "      <td>6.55</td>\n",
       "      <td>8.300</td>\n",
       "      <td>10.0</td>\n",
       "    </tr>\n",
       "  </tbody>\n",
       "</table>\n",
       "</div>"
      ],
      "text/plain": [
       "      Grade                                                \n",
       "      count   mean       std  min    25%   50%    75%   max\n",
       "Year                                                       \n",
       "1996  100.0  5.336  1.972053  0.4  3.800  5.30  6.925  10.0\n",
       "1997  100.0  6.831  1.860417  1.8  5.475  6.55  8.300  10.0"
      ]
     },
     "execution_count": 5,
     "metadata": {},
     "output_type": "execute_result"
    }
   ],
   "source": [
    "### CÓDIGO A COMPLETAR (1 LÍNEA)\n",
    "notas_by_year.describe()\n",
    "###"
   ]
  },
  {
   "cell_type": "markdown",
   "metadata": {
    "colab_type": "text",
    "id": "WlSEceP8si-m"
   },
   "source": [
    "La media de la calificación para el año 1997 debería ser de 6.831. Si el valor coincide, es muy probable que los pasos anteriores sean correctos."
   ]
  },
  {
   "cell_type": "markdown",
   "metadata": {
    "colab_type": "text",
    "id": "3LnHPpbcnxOv"
   },
   "source": [
    "¿Por qué los resúmenes estadísticos son insuficientes? Al igual que si nos limitamos a leer la sinopsis de un libro o una película, perdemos casi toda la información disponible. \n",
    "\n",
    "El resumen nos permitirá conocer algunas características de los datos, pero a partir de un resumen, es imposible conocer la distribución original de los datos. La siguiente figura lo demuestra con bastante claridad:\n",
    "\n",
    "![](https://bookdown.org/martinmontaneb/CienciaDeDatosParaCuriosos/Figuras/Capitulo%203/DinoSequentialSmaller.gif)"
   ]
  },
  {
   "cell_type": "markdown",
   "metadata": {
    "colab_type": "text",
    "id": "1Huv6Bn8l5HG"
   },
   "source": [
    "## Histogramas\n",
    "\n",
    "Al igual que un resumen estadístico, un histograma solo nos proporciona una visión parcial de la información. Sin embargo, esta figura nos permite conocer algo mejor cómo se distribuyen los valores.\n",
    "\n",
    "De nuevo, la elaboración de un histograma en Pandas es realmente sencilla: solo tenemos que emplear la función [`hist`](https://pandas.pydata.org/pandas-docs/stable/reference/api/pandas.DataFrame.hist.html).\n",
    "\n",
    "Si el *dataframe* está agrupado, se mostrará un histograma por cada grupo (es decir, en este caso, por cada serie distinta).\n",
    "\n",
    "A continuación, dibujaremos los histogramas de las dos series de valores."
   ]
  },
  {
   "cell_type": "code",
   "execution_count": 6,
   "metadata": {
    "colab": {},
    "colab_type": "code",
    "id": "iikzm4N-l0dJ"
   },
   "outputs": [
    {
     "data": {
      "text/plain": [
       "Year\n",
       "1996    [[AxesSubplot(0.125,0.125;0.775x0.755)]]\n",
       "1997    [[AxesSubplot(0.125,0.125;0.775x0.755)]]\n",
       "dtype: object"
      ]
     },
     "execution_count": 6,
     "metadata": {},
     "output_type": "execute_result"
    },
    {
     "data": {
      "image/png": "[encoded data removed]",
      "text/plain": [
       "<Figure size 432x288 with 1 Axes>"
      ]
     },
     "metadata": {
      "needs_background": "light"
     },
     "output_type": "display_data"
    },
    {
     "data": {
      "image/png": "[encoded data removed]",
      "text/plain": [
       "<Figure size 432x288 with 1 Axes>"
      ]
     },
     "metadata": {
      "needs_background": "light"
     },
     "output_type": "display_data"
    }
   ],
   "source": [
    "### CÓDIGO A COMPLETAR (1 LÍNEA)\n",
    "notas_by_year.hist(bins=10)\n",
    "###"
   ]
  },
  {
   "cell_type": "markdown",
   "metadata": {
    "colab_type": "text",
    "id": "Nc9uBKzynIGL"
   },
   "source": [
    "## Gráficos de cajas\n",
    "\n",
    "En cierto modo, un gráfico de cajas (*boxplot*) combina información presente en un resumen estadístico y en un histograma. A partir del gráfico podemos obtener algunos estadísticos, tales como la mediana, los cuartiles, el máximo y el mínimo y, en algunos casos, también la media. \n",
    "\n",
    "Además, el tamaño de las cajas nos ayuda a intuir la distribución de los datos, si bien de una forma menos detallada que la de un histograma.\n",
    "\n",
    "Como ya es habitual, la generación en Pandas de este tipo de gráficos es bastante sencilla: basta con emplear la función [`boxplot`](https://pandas.pydata.org/pandas-docs/stable/reference/api/pandas.DataFrame.boxplot.html).\n",
    "\n",
    "A continuación, buscaremos dibujar estos gráficos de cajas. No obstante, en esta ocasión habrá que tener en cuenta un par de cuestiones:\n",
    "\n",
    "*   Será necesario indicar la columna cuyos valores queremos incluir en el gráfico, empleando el argumento `column`.\n",
    "*   Si queremos incluir la media en el gráfico, debemos especificar como argumento `showmeans=True`.\n",
    "\n"
   ]
  },
  {
   "cell_type": "code",
   "execution_count": 7,
   "metadata": {
    "colab": {},
    "colab_type": "code",
    "id": "JV7WyTS6mmv4"
   },
   "outputs": [
    {
     "data": {
      "text/plain": [
       "1996         AxesSubplot(0.1,0.15;0.363636x0.75)\n",
       "1997    AxesSubplot(0.536364,0.15;0.363636x0.75)\n",
       "dtype: object"
      ]
     },
     "execution_count": 7,
     "metadata": {},
     "output_type": "execute_result"
    },
    {
     "data": {
      "image/png": "[encoded data removed]",
      "text/plain": [
       "<Figure size 432x288 with 2 Axes>"
      ]
     },
     "metadata": {
      "needs_background": "light"
     },
     "output_type": "display_data"
    }
   ],
   "source": [
    "### CÓDIGO A COMPLETAR (1 LÍNEA)\n",
    "notas_by_year.boxplot(column=[\"Grade\"], showmeans=True)\n",
    "###"
   ]
  },
  {
   "cell_type": "markdown",
   "metadata": {
    "colab_type": "text",
    "id": "kf5G22D9smKV"
   },
   "source": [
    "## Contraste de hipótesis\n",
    "\n",
    "Hasta ahora hemos empleado métodos de la *estadística descriptiva*, que se centran fundamentalmente en proporcionarnos información fácilmente digerible acerca de los datos de los que disponemos.\n",
    "\n",
    "Los resultados anteriores nos permiten suponer, razonablemente, que los alumnos de 1997 no son peores que los de 1996. Esto podría, en principio, desmontar la afirmación del profesor frustado.\n",
    "\n",
    "Sin embargo, ninguno de los resultados anteriores nos permite afirmar de forma categórica que los alumnos de 1997 son mejores que los de 1996. Todo parece indicar que es así: la distribución, la media, la mediana, etc.; pero para asegurarlo deberemos realizar un contraste de hipótesis.\n",
    "\n",
    "Este tipo de técnicas pertenece a la *inferencia estadística*, y en general es un campo que aúna bastante complejidad, pues son numerosos los *tests* estadísticos que se pueden emplear y la prueba (o contraste) a utilizar variará en función de determinadas características de los datos, como su normalidad, heterocedasticidad, tamaño de muestra, etc.\n",
    "\n",
    "Para saber qué prueba emplear, lo más sencillo es recurrir a algún manual estadístico que nos guíe mediante algún diagrama de flujo. No obstante, una característica de los contrastes de hipótesis es que siempre debemos definir dos hipótesis:\n",
    "\n",
    "1.   La hipótesis nula (H0), que generalmente se suele asociar a la ausencia de diferencias entre las muestras.\n",
    "2.   La hipótesis alternativa (H1), que generalmente se asocia a la diferencia significativa entre las muestras.\n",
    "\n",
    "Durante el contraste de hipótesis, debemos definir un nivel de confianza. Generalmente se escoge 0.05, aunque en algunos casos se escoge 0.01 o 0.005 si se busca una confianza mayor.\n",
    "\n",
    "Como resultado de la prueba, se obtiene un determinado *p*-valor, que se compara con dicho nivel de confianza. Si el *p*-valor es menor que el nivel de confianza, se acepta la hipótesis alternativa, mientras que en caso contrario se rechaza.\n",
    "\n",
    "A continuación, proporcionamos un código para realizar un contraste de hipótesis con los datos de los que disponemos. Para ello, se ha recurrido a la librería Scipy. En concreto, se ha realizado un contraste *t*-Student, que exige normalidad a las muestras (algo que no podemos asegurar con total certeza, pero podemos asumir como razonable) e igualdad de varianzas (algo que comprobamos en el estudio empleando Excel)."
   ]
  },
  {
   "cell_type": "code",
   "execution_count": 8,
   "metadata": {
    "colab": {},
    "colab_type": "code",
    "id": "jNUWaEygujxQ"
   },
   "outputs": [
    {
     "name": "stdout",
     "output_type": "stream",
     "text": [
      "Las notas de 1996 son [ 4.6  8.1  4.5  3.7  4.8  9.   3.6  3.8  5.4  5.4  6.6  5.4  7.3  6.\n",
      "  7.1  4.1  6.8  4.4  6.1  4.5  7.3  1.8  3.9  6.   7.7  7.5  6.8  8.7\n",
      "  5.5  3.9  7.   3.2  7.1  0.4  5.8  4.6  9.8  3.6  6.2  4.3  1.7  5.\n",
      "  3.3  3.8  6.3  7.2  4.7  6.   7.8  6.9  5.2  7.5  7.4  7.8  4.   4.5\n",
      "  1.4  3.2  3.5  2.5  1.5  2.8  5.9  3.9  4.9  5.6  8.3  3.5  3.6  6.8\n",
      "  7.9  4.2  5.   3.7  4.9  3.7  8.2  4.   2.9  6.2  7.7  7.1  5.4  2.8\n",
      "  2.8  6.   3.3 10.   4.4  7.   6.5  6.3  3.5  8.8  7.6  3.1  4.9  6.3\n",
      "  5.6  5. ]\n",
      "Las notas de 1997 son [ 5.   5.2  4.7  6.4  4.9  9.4 10.  10.   8.5  6.1  3.2  5.9  7.9  9.6\n",
      "  8.2  6.2  3.1  7.8  6.3  5.7  4.5  7.5  6.2  4.8  7.3  6.2  5.4  5.1\n",
      "  5.2  8.3  9.4  5.5  7.6  7.5  7.   7.7  8.8  6.1  8.4  4.9 10.   7.7\n",
      "  8.7  4.1  7.2 10.   7.8  4.5  7.9  4.5  9.   5.6  4.6  9.1  8.2  5.7\n",
      "  6.6  8.6  4.6  5.5  5.3  8.1  7.2  4.7  8.5  5.5  5.8  8.1  5.9  6.5\n",
      "  9.1  6.3  6.5  8.7  7.1  1.8  6.3  8.8  6.   4.8  3.6  8.   6.4  6.4\n",
      "  9.3  5.4 10.   6.   8.3  8.7  3.1  8.3  7.1  6.   7.3  4.7  9.4  7.7\n",
      " 10.   9. ]\n",
      "El p-valor obtenido es: 1.0844857028474749e-07\n"
     ]
    }
   ],
   "source": [
    "# Cargamos la función para el test t-Student con dos muestras independientes.\n",
    "from scipy.stats import ttest_ind\n",
    "\n",
    "# Extraemos los valores de las notas de 1996 y 1997.\n",
    "# Nótese que estamos realizando un filtrado (por año) y una proyección de la\n",
    "# columna que contiene las notas.\n",
    "notas1996 = notas[notas.Year == 1996].Grade.values\n",
    "notas1997 = notas[notas.Year == 1997].Grade.values\n",
    "\n",
    "# LOs valores que se imprimen son arrays de Numpy.\n",
    "print(f\"Las notas de 1996 son {notas1996}\")\n",
    "print(f\"Las notas de 1997 son {notas1997}\")\n",
    "\n",
    "# Ejecutamos el contraste.\n",
    "tset, pval = ttest_ind(notas1996, notas1997)\n",
    "print(f\"El p-valor obtenido es: {pval}\")"
   ]
  },
  {
   "cell_type": "markdown",
   "metadata": {
    "colab_type": "text",
    "id": "tQ9XNRphxifT"
   },
   "source": [
    "Asumiendo las suposiciones como ciertas (normalidad de datos e igualdad de varianzas), observamos que el resultado del contraste es un *p*-valor de 1.08E-7, que es sustancialmente menor que 0.05, o incluso que 0.005. Esto querría decir que, inequívocamente, las notas de 1997 son **significativamente mejores** que las de 1996."
   ]
  },
  {
   "cell_type": "markdown",
   "metadata": {
    "colab_type": "text",
    "id": "2dqTBDezyKts"
   },
   "source": [
    "## Conclusiones\n",
    "\n",
    "Parece ser que nuestro profesor frustrado estaba equivocado. ¿O no?\n",
    "\n",
    "Los datos de los que disponemos muestran claramente que las notas de 1997 son mejores que las de 1996. Sin embargo, esta, y no otra, es la única interpretación que podemos dar. Es decir:\n",
    "\n",
    "*   No podemos asegurar que un grupo de estudiantes sea mejor o peor. Hay muchos elementos que podrían determinar si un grupo es mejor o peor que otro, más allá de la nota en una asignatura. Quizás los alumnos de 1996 tuvieran una mejor actitud en clase, o se comportaran con más educación.\n",
    "*   Incluso si la nota de la asignatura de Programación fuera la única variable a tener en cuenta para medir la calidad del alumnado, podría haber factores externos no considerados. Tal vez el examen o las prácticas de 1997 fueran más fáciles.\n",
    "*   Aun en igualdad de condiciones, jamás podríamos asegurar que los alumnos son mejores cada año, ya que solo disponemos datos de dos años. Serían necesarios datos con una mayor continuidad temporal para poder hacer una regresión y estudiar si realmente las notas mejoran con el paso del tiempo.\n",
    "\n",
    "En definitiva, el análisis de datos involucra tener en cuenta estas cuestiones. Evitaremos las afirmaciones categóricas, salvo aquellas que estén debidamente contrastadas.\n",
    "\n"
   ]
  }
 ],
 "metadata": {
  "colab": {
   "collapsed_sections": [],
   "name": "UC3M_Data_Analysis_GP1",
   "provenance": []
  },
  "kernelspec": {
   "display_name": "Python 3",
   "language": "python",
   "name": "python3"
  },
  "language_info": {
   "codemirror_mode": {
    "name": "ipython",
    "version": 3
   },
   "file_extension": ".py",
   "mimetype": "text/x-python",
   "name": "python",
   "nbconvert_exporter": "python",
   "pygments_lexer": "ipython3",
   "version": "3.8.2"
  }
 },
 "nbformat": 4,
 "nbformat_minor": 1
}
